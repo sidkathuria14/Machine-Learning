{
 "cells": [
  {
   "cell_type": "code",
   "execution_count": 1,
   "metadata": {
    "collapsed": true
   },
   "outputs": [],
   "source": [
    "import numpy as np\n",
    "import pandas as pd\n"
   ]
  },
  {
   "cell_type": "code",
   "execution_count": 2,
   "metadata": {
    "collapsed": true
   },
   "outputs": [],
   "source": [
    "promotional = pd.read_csv('dataset/promotional_expense.csv')\n",
    "holidays = pd.read_csv('dataset/holidays.csv')\n",
    "test = pd.read_csv('dataset/yds_test2018.csv')"
   ]
  },
  {
   "cell_type": "code",
   "execution_count": 3,
   "metadata": {
    "collapsed": true
   },
   "outputs": [],
   "source": [
    "from pandas import datetime\n",
    "from pandas import DataFrame\n",
    "from statsmodels.tsa.arima_model import ARIMA\n",
    "from matplotlib import pyplot\n",
    "from pandas.tools.plotting import autocorrelation_plot"
   ]
  },
  {
   "cell_type": "code",
   "execution_count": 4,
   "metadata": {},
   "outputs": [
    {
     "ename": "NameError",
     "evalue": "name 'parser' is not defined",
     "output_type": "error",
     "traceback": [
      "\u001b[0;31m---------------------------------------------------------------------------\u001b[0m",
      "\u001b[0;31mNameError\u001b[0m                                 Traceback (most recent call last)",
      "\u001b[0;32m<ipython-input-4-caa6f0431f67>\u001b[0m in \u001b[0;36m<module>\u001b[0;34m()\u001b[0m\n\u001b[0;32m----> 1\u001b[0;31m \u001b[0mtrain\u001b[0m \u001b[0;34m=\u001b[0m \u001b[0mpd\u001b[0m\u001b[0;34m.\u001b[0m\u001b[0mread_csv\u001b[0m\u001b[0;34m(\u001b[0m\u001b[0;34m'train.csv'\u001b[0m\u001b[0;34m,\u001b[0m\u001b[0mparse_dates\u001b[0m\u001b[0;34m=\u001b[0m\u001b[0;34m[\u001b[0m\u001b[0;36m0\u001b[0m\u001b[0;34m]\u001b[0m\u001b[0;34m,\u001b[0m \u001b[0mheader\u001b[0m\u001b[0;34m=\u001b[0m\u001b[0;36m0\u001b[0m\u001b[0;34m,\u001b[0m\u001b[0mdate_parser\u001b[0m\u001b[0;34m=\u001b[0m\u001b[0mparser\u001b[0m\u001b[0;34m,\u001b[0m\u001b[0mindex_col\u001b[0m\u001b[0;34m=\u001b[0m\u001b[0;36m0\u001b[0m\u001b[0;34m)\u001b[0m\u001b[0;34m.\u001b[0m\u001b[0mSales\u001b[0m\u001b[0;34m\u001b[0m\u001b[0m\n\u001b[0m",
      "\u001b[0;31mNameError\u001b[0m: name 'parser' is not defined"
     ]
    }
   ],
   "source": [
    "train = pd.read_csv('train.csv',parse_dates=[0], header=0,date_parser=parser,index_col=0).Sales"
   ]
  },
  {
   "cell_type": "code",
   "execution_count": null,
   "metadata": {},
   "outputs": [],
   "source": [
    "train.head()"
   ]
  },
  {
   "cell_type": "code",
   "execution_count": 5,
   "metadata": {},
   "outputs": [
    {
     "data": {
      "text/plain": [
       "Date\n",
       "2013-01-01    157500.0\n",
       "2013-01-01     39375.0\n",
       "2013-01-01     15750.0\n",
       "2013-01-01     47250.0\n",
       "2013-01-01    283500.0\n",
       "Name: Sales, dtype: float64"
      ]
     },
     "execution_count": 5,
     "metadata": {},
     "output_type": "execute_result"
    }
   ],
   "source": [
    "train_1_a = pd.read_csv('train/train_1_a.csv',parse_dates=[1],header=0,index_col=1).Sales\n",
    "train_1_a.head()"
   ]
  },
  {
   "cell_type": "code",
   "execution_count": 6,
   "metadata": {
    "collapsed": true
   },
   "outputs": [],
   "source": [
    "train_1_a = pd.read_csv('train/train_1_a.csv',parse_dates=[1], header=0,index_col=1).Sales\n",
    "train_2_a = pd.read_csv('train/train_2_a.csv',parse_dates=[1], header=0,index_col=1).Sales\n",
    "train_3_a = pd.read_csv('train/train_3_a.csv',parse_dates=[1], header=0,index_col=1).Sales\n",
    "train_4_a = pd.read_csv('train/train_4_a.csv',parse_dates=[1], header=0,index_col=1).Sales\n",
    "train_5_a = pd.read_csv('train/train_5_a.csv',parse_dates=[1], header=0,index_col=1).Sales\n",
    "\n",
    "train_1_b = pd.read_csv('train/train_1_b.csv',parse_dates=[1], header=0,index_col=1).Sales\n",
    "train_2_b = pd.read_csv('train/train_2_b.csv',parse_dates=[1], header=0,index_col=1).Sales\n",
    "train_3_b = pd.read_csv('train/train_3_b.csv',parse_dates=[1], header=0,index_col=1).Sales\n",
    "train_4_b = pd.read_csv('train/train_4_b.csv',parse_dates=[1], header=0,index_col=1).Sales\n",
    "train_5_b = pd.read_csv('train/train_5_b.csv',parse_dates=[1], header=0,index_col=1).Sales\n",
    "\n",
    "train_1_c = pd.read_csv('train/train_1_c.csv',parse_dates=[1], header=0,index_col=1).Sales\n",
    "train_2_c = pd.read_csv('train/train_2_c.csv',parse_dates=[1], header=0,index_col=1).Sales\n",
    "train_3_c = pd.read_csv('train/train_3_c.csv',parse_dates=[1], header=0,index_col=1).Sales\n",
    "train_4_c = pd.read_csv('train/train_4_c.csv',parse_dates=[1], header=0,index_col=1).Sales\n",
    "train_5_c = pd.read_csv('train/train_5_c.csv',parse_dates=[1], header=0,index_col=1).Sales\n",
    "\n",
    "train_1_d = pd.read_csv('train/train_1_d.csv',parse_dates=[1], header=0,index_col=1).Sales\n",
    "train_2_d = pd.read_csv('train/train_2_d.csv',parse_dates=[1], header=0,index_col=1).Sales\n",
    "train_3_d = pd.read_csv('train/train_3_d.csv',parse_dates=[1], header=0,index_col=1).Sales\n",
    "train_4_d = pd.read_csv('train/train_4_d.csv',parse_dates=[1], header=0,index_col=1).Sales\n",
    "train_5_d = pd.read_csv('train/train_5_d.csv',parse_dates=[1], header=0,index_col=1).Sales\n",
    "\n",
    "train_1_e = pd.read_csv('train/train_1_e.csv',parse_dates=[1], header=0,index_col=1).Sales\n",
    "train_2_e = pd.read_csv('train/train_2_e.csv',parse_dates=[1], header=0,index_col=1).Sales\n",
    "train_3_e = pd.read_csv('train/train_3_e.csv',parse_dates=[1], header=0,index_col=1).Sales\n",
    "train_4_e = pd.read_csv('train/train_4_e.csv',parse_dates=[1], header=0,index_col=1).Sales\n",
    "train_5_e = pd.read_csv('train/train_5_e.csv',parse_dates=[1], header=0,index_col=1).Sales\n",
    "\n",
    "train_1_f = pd.read_csv('train/train_1_f.csv',parse_dates=[1], header=0,index_col=1).Sales\n",
    "train_2_f = pd.read_csv('train/train_2_f.csv',parse_dates=[1], header=0,index_col=1).Sales\n",
    "train_3_f = pd.read_csv('train/train_3_f.csv',parse_dates=[1], header=0,index_col=1).Sales\n",
    "train_4_f = pd.read_csv('train/train_4_f.csv',parse_dates=[1], header=0,index_col=1).Sales\n",
    "train_5_f = pd.read_csv('train/train_5_f.csv',parse_dates=[1], header=0,index_col=1).Sales"
   ]
  },
  {
   "cell_type": "code",
   "execution_count": 122,
   "metadata": {
    "collapsed": true
   },
   "outputs": [],
   "source": [
    "# train_4_e"
   ]
  },
  {
   "cell_type": "code",
   "execution_count": 76,
   "metadata": {
    "collapsed": true
   },
   "outputs": [],
   "source": [
    "# train_1_a = train[train.Product_ID == 1][train.Country == 0].Sales\n",
    "# train_2_a = train[train.Product_ID == 2][train.Country == 0].Sales\n",
    "# train_3_a = train[train.Product_ID == 3][train.Country == 0].Sales\n",
    "# train_4_a = train[train.Product_ID == 4][train.Country == 0].Sales\n",
    "# train_5_a = train[train.Product_ID == 5][train.Country == 0].Sales\n",
    "\n",
    "# train_1_b = train[train.Product_ID == 1][train.Country == 1].Sales\n",
    "# train_2_b = train[train.Product_ID == 2][train.Country == 1].Sales\n",
    "# train_3_b = train[train.Product_ID == 3][train.Country == 1].Sales\n",
    "# train_4_b = train[train.Product_ID == 4][train.Country == 1].Sales\n",
    "# train_5_b = train[train.Product_ID == 5][train.Country == 1].Sales\n",
    "\n",
    "# train_1_c = train[train.Product_ID == 1][train.Country == 2].Sales\n",
    "# train_2_c = train[train.Product_ID == 2][train.Country == 2].Sales\n",
    "# train_3_c = train[train.Product_ID == 3][train.Country == 2].Sales\n",
    "# train_4_c = train[train.Product_ID == 4][train.Country == 2].Sales\n",
    "# train_5_c = train[train.Product_ID == 5][train.Country == 2].Sales\n",
    "\n",
    "# train_1_d = train[train.Product_ID == 1][train.Country == 3].Sales\n",
    "# train_2_d = train[train.Product_ID == 2][train.Country == 3].Sales\n",
    "# train_3_d = train[train.Product_ID == 3][train.Country == 3].Sales\n",
    "# train_4_d = train[train.Product_ID == 4][train.Country == 3].Sales\n",
    "# train_5_d = train[train.Product_ID == 5][train.Country == 3].Sales\n",
    "\n",
    "# train_1_e = train[train.Product_ID == 1][train.Country == 4].Sales\n",
    "# train_2_e = train[train.Product_ID == 2][train.Country == 4].Sales\n",
    "# train_3_e = train[train.Product_ID == 3][train.Country == 4].Sales\n",
    "# train_4_e = train[train.Product_ID == 4][train.Country == 4].Sales\n",
    "# train_5_e = train[train.Product_ID == 5][train.Country == 4].Sales\n",
    "\n",
    "# train_1_f = train[train.Product_ID == 1][train.Country == 5].Sales\n",
    "# train_2_f = train[train.Product_ID == 2][train.Country == 5].Sales\n",
    "# train_3_f = train[train.Product_ID == 3][train.Country == 5].Sales\n",
    "# train_4_f = train[train.Product_ID == 4][train.Country == 5].Sales\n",
    "# train_5_f = train[train.Product_ID == 5][train.Country == 5].Sales"
   ]
  },
  {
   "cell_type": "code",
   "execution_count": 125,
   "metadata": {
    "collapsed": true
   },
   "outputs": [],
   "source": [
    "# model_1_b = ARIMA(train_1_b, order=(5,1,0))\n",
    "# fit_1_b = model_1_b.fit(disp=0)\n",
    "# model_2_b = ARIMA(train_2_b, order=(5,1,0))\n",
    "# fit_2_b = model_2_b.fit(disp=0)\n",
    "# model_3_b = ARIMA(train_3_b, order=(5,1,0))\n",
    "# fit_3_b = model_3_b.fit(disp=0)\n",
    "# model_4_b = ARIMA(train_4_b, order=(5,1,0))\n",
    "# fit_4_b = model_4_b.fit(disp=0)\n",
    "# model_5_b = ARIMA(train_5_b, order=(5,1,0))\n",
    "# fit_5_b = model_5_b.fit(disp=0)"
   ]
  },
  {
   "cell_type": "code",
   "execution_count": 7,
   "metadata": {},
   "outputs": [
    {
     "name": "stderr",
     "output_type": "stream",
     "text": [
      "/home/sidkathuria14/.local/lib/python3.5/site-packages/statsmodels/tsa/base/tsa_model.py:225: ValueWarning: A date index has been provided, but it has no associated frequency information and so will be ignored when e.g. forecasting.\n",
      "  ' ignored when e.g. forecasting.', ValueWarning)\n",
      "/home/sidkathuria14/.local/lib/python3.5/site-packages/statsmodels/tsa/base/tsa_model.py:225: ValueWarning: A date index has been provided, but it has no associated frequency information and so will be ignored when e.g. forecasting.\n",
      "  ' ignored when e.g. forecasting.', ValueWarning)\n",
      "/home/sidkathuria14/.local/lib/python3.5/site-packages/statsmodels/tsa/base/tsa_model.py:225: ValueWarning: A date index has been provided, but it has no associated frequency information and so will be ignored when e.g. forecasting.\n",
      "  ' ignored when e.g. forecasting.', ValueWarning)\n",
      "/home/sidkathuria14/.local/lib/python3.5/site-packages/statsmodels/tsa/base/tsa_model.py:225: ValueWarning: A date index has been provided, but it has no associated frequency information and so will be ignored when e.g. forecasting.\n",
      "  ' ignored when e.g. forecasting.', ValueWarning)\n",
      "/home/sidkathuria14/.local/lib/python3.5/site-packages/statsmodels/tsa/base/tsa_model.py:225: ValueWarning: A date index has been provided, but it has no associated frequency information and so will be ignored when e.g. forecasting.\n",
      "  ' ignored when e.g. forecasting.', ValueWarning)\n",
      "/home/sidkathuria14/.local/lib/python3.5/site-packages/statsmodels/tsa/base/tsa_model.py:225: ValueWarning: A date index has been provided, but it has no associated frequency information and so will be ignored when e.g. forecasting.\n",
      "  ' ignored when e.g. forecasting.', ValueWarning)\n",
      "/home/sidkathuria14/.local/lib/python3.5/site-packages/statsmodels/tsa/base/tsa_model.py:225: ValueWarning: A date index has been provided, but it has no associated frequency information and so will be ignored when e.g. forecasting.\n",
      "  ' ignored when e.g. forecasting.', ValueWarning)\n",
      "/home/sidkathuria14/.local/lib/python3.5/site-packages/statsmodels/tsa/base/tsa_model.py:225: ValueWarning: A date index has been provided, but it has no associated frequency information and so will be ignored when e.g. forecasting.\n",
      "  ' ignored when e.g. forecasting.', ValueWarning)\n",
      "/home/sidkathuria14/.local/lib/python3.5/site-packages/statsmodels/tsa/base/tsa_model.py:225: ValueWarning: A date index has been provided, but it has no associated frequency information and so will be ignored when e.g. forecasting.\n",
      "  ' ignored when e.g. forecasting.', ValueWarning)\n",
      "/home/sidkathuria14/.local/lib/python3.5/site-packages/statsmodels/tsa/base/tsa_model.py:225: ValueWarning: A date index has been provided, but it has no associated frequency information and so will be ignored when e.g. forecasting.\n",
      "  ' ignored when e.g. forecasting.', ValueWarning)\n",
      "/home/sidkathuria14/.local/lib/python3.5/site-packages/statsmodels/tsa/base/tsa_model.py:225: ValueWarning: A date index has been provided, but it has no associated frequency information and so will be ignored when e.g. forecasting.\n",
      "  ' ignored when e.g. forecasting.', ValueWarning)\n",
      "/home/sidkathuria14/.local/lib/python3.5/site-packages/statsmodels/tsa/base/tsa_model.py:225: ValueWarning: A date index has been provided, but it has no associated frequency information and so will be ignored when e.g. forecasting.\n",
      "  ' ignored when e.g. forecasting.', ValueWarning)\n",
      "/home/sidkathuria14/.local/lib/python3.5/site-packages/statsmodels/tsa/base/tsa_model.py:225: ValueWarning: A date index has been provided, but it has no associated frequency information and so will be ignored when e.g. forecasting.\n",
      "  ' ignored when e.g. forecasting.', ValueWarning)\n",
      "/home/sidkathuria14/.local/lib/python3.5/site-packages/statsmodels/tsa/base/tsa_model.py:225: ValueWarning: A date index has been provided, but it has no associated frequency information and so will be ignored when e.g. forecasting.\n",
      "  ' ignored when e.g. forecasting.', ValueWarning)\n",
      "/home/sidkathuria14/.local/lib/python3.5/site-packages/statsmodels/tsa/base/tsa_model.py:225: ValueWarning: A date index has been provided, but it has no associated frequency information and so will be ignored when e.g. forecasting.\n",
      "  ' ignored when e.g. forecasting.', ValueWarning)\n",
      "/home/sidkathuria14/.local/lib/python3.5/site-packages/statsmodels/tsa/base/tsa_model.py:225: ValueWarning: A date index has been provided, but it has no associated frequency information and so will be ignored when e.g. forecasting.\n",
      "  ' ignored when e.g. forecasting.', ValueWarning)\n"
     ]
    }
   ],
   "source": [
    "model_1_a = ARIMA(train_1_a, order=(5,1,0))\n",
    "fit_1_a = model_1_a.fit(disp=0)\n",
    "model_2_a = ARIMA(train_2_a, order=(5,1,0))\n",
    "fit_2_a = model_2_a.fit(disp=0)\n",
    "model_3_a = ARIMA(train_3_a, order=(5,1,0))\n",
    "fit_3_a = model_3_a.fit(disp=0)\n",
    "# model_4_a = ARIMA(train_4_a, order=(5,1,0))\n",
    "# fit_4_a = model_4_a.fit(disp=0)\n",
    "# model_5_a = ARIMA(train_5_a, order=(5,1,0))\n",
    "# fit_5_a = model_5_a.fit(disp=0)\n",
    "\n",
    "# model_1_b = ARIMA(train_1_b, order=(5,1,0))\n",
    "# fit_1_b = model_1_b.fit(disp=0)\n",
    "model_2_b = ARIMA(train_2_b, order=(5,1,0))\n",
    "fit_2_b = model_2_b.fit(disp=0)\n",
    "# model_3_b = ARIMA(train_3_b, order=(5,1,0))\n",
    "# fit_3_b = model_3_b.fit(disp=0)\n",
    "# model_4_b = ARIMA(train_4_b, order=(5,1,0))\n",
    "# fit_4_b = model_4_b.fit(disp=0)\n",
    "# model_5_b = ARIMA(train_5_b, order=(5,1,0))\n",
    "# fit_5_b = model_5_b.fit(disp=0)\n",
    "\n",
    "model_1_c = ARIMA(train_1_c, order=(5,1,0))\n",
    "fit_1_c = model_1_c.fit(disp=0)\n",
    "model_2_c = ARIMA(train_2_c, order=(5,1,0))\n",
    "fit_2_c = model_2_c.fit(disp=0)\n",
    "model_3_c = ARIMA(train_3_c, order=(5,1,0))\n",
    "fit_3_c = model_3_c.fit(disp=0)\n",
    "# model_4_c = ARIMA(train_4_c, order=(5,1,0))\n",
    "# fit_4_c = model_4_c.fit(disp=0)\n",
    "# model_5_c = ARIMA(train_5_c, order=(5,1,0))\n",
    "# fit_5_c = model_5_c.fit(disp=0)\n",
    "\n",
    "# model_1_d = ARIMA(train_1_d, order=(5,1,0))\n",
    "# fit_1_d = model_1_d.fit(disp=0)\n",
    "model_2_d = ARIMA(train_2_d, order=(5,1,0))\n",
    "fit_2_d = model_2_d.fit(disp=0)\n",
    "# model_3_d = ARIMA(train_3_d, order=(5,1,0))\n",
    "# fit_3_d = model_3_d.fit(disp=0)\n",
    "# model_4_d = ARIMA(train_4_d, order=(5,1,0))\n",
    "# fit_4_d = model_4_d.fit(disp=0)\n",
    "# model_5_d = ARIMA(train_5_d, order=(5,1,0))\n",
    "# fit_5_d = model_5_d.fit(disp=0)\n",
    "\n",
    "\n",
    "\n"
   ]
  },
  {
   "cell_type": "code",
   "execution_count": 8,
   "metadata": {},
   "outputs": [
    {
     "name": "stderr",
     "output_type": "stream",
     "text": [
      "/home/sidkathuria14/.local/lib/python3.5/site-packages/statsmodels/tsa/base/tsa_model.py:225: ValueWarning: A date index has been provided, but it has no associated frequency information and so will be ignored when e.g. forecasting.\n",
      "  ' ignored when e.g. forecasting.', ValueWarning)\n",
      "/home/sidkathuria14/.local/lib/python3.5/site-packages/statsmodels/tsa/base/tsa_model.py:225: ValueWarning: A date index has been provided, but it has no associated frequency information and so will be ignored when e.g. forecasting.\n",
      "  ' ignored when e.g. forecasting.', ValueWarning)\n",
      "/home/sidkathuria14/.local/lib/python3.5/site-packages/statsmodels/tsa/base/tsa_model.py:225: ValueWarning: A date index has been provided, but it has no associated frequency information and so will be ignored when e.g. forecasting.\n",
      "  ' ignored when e.g. forecasting.', ValueWarning)\n",
      "/home/sidkathuria14/.local/lib/python3.5/site-packages/statsmodels/tsa/base/tsa_model.py:225: ValueWarning: A date index has been provided, but it has no associated frequency information and so will be ignored when e.g. forecasting.\n",
      "  ' ignored when e.g. forecasting.', ValueWarning)\n",
      "/home/sidkathuria14/.local/lib/python3.5/site-packages/statsmodels/tsa/base/tsa_model.py:225: ValueWarning: A date index has been provided, but it has no associated frequency information and so will be ignored when e.g. forecasting.\n",
      "  ' ignored when e.g. forecasting.', ValueWarning)\n",
      "/home/sidkathuria14/.local/lib/python3.5/site-packages/statsmodels/tsa/base/tsa_model.py:225: ValueWarning: A date index has been provided, but it has no associated frequency information and so will be ignored when e.g. forecasting.\n",
      "  ' ignored when e.g. forecasting.', ValueWarning)\n"
     ]
    }
   ],
   "source": [
    "# model_1_e = ARIMA(train_1_e, order=(5,1,0))\n",
    "# fit_1_e = model_1_e.fit(disp=0)\n",
    "# model_2_e = ARIMA(train_2_e, order=(5,1,0))\n",
    "# fit_2_e = model_2_e.fit(disp=0)\n",
    "# model_3_e = ARIMA(train_3_e, order=(5,1,0))\n",
    "# fit_3_e = model_3_e.fit(disp=0)\n",
    "model_4_e = ARIMA(train_4_e, order=(5,1,0))\n",
    "fit_4_e = model_4_e.fit(disp=0)\n",
    "model_5_e = ARIMA(train_5_e, order=(5,1,0))\n",
    "fit_5_e = model_5_e.fit(disp=0)\n",
    "\n",
    "# model_1_f = ARIMA(train_1_f, order=(5,1,0))\n",
    "# fit_1_f = model_1_f.fit(disp=0)\n",
    "# model_2_f = ARIMA(train_2_f, order=(5,1,0))\n",
    "# fit_2_f = model_2_f.fit(disp=0)\n",
    "# model_3_f = ARIMA(train_3_f, order=(5,1,0))\n",
    "# fit_3_f = model_3_f.fit(disp=0)\n",
    "model_4_f = ARIMA(train_4_f, order=(5,1,0))\n",
    "fit_4_f = model_4_f.fit(disp=0)\n",
    "# model_5_f = ARIMA(train_5_f, order=(5,1,0))\n",
    "# fit_5_f = model_5_f.fit(disp=0)"
   ]
  },
  {
   "cell_type": "code",
   "execution_count": 66,
   "metadata": {
    "collapsed": true
   },
   "outputs": [],
   "source": [
    "# def parser(x):\n",
    "#     return datetime.strptime(x, '%Y-%m')"
   ]
  },
  {
   "cell_type": "code",
   "execution_count": 9,
   "metadata": {
    "collapsed": true
   },
   "outputs": [],
   "source": [
    "test.drop(columns = ['Sales'],inplace = True)"
   ]
  },
  {
   "cell_type": "code",
   "execution_count": 10,
   "metadata": {},
   "outputs": [
    {
     "data": {
      "text/html": [
       "<div>\n",
       "<style scoped>\n",
       "    .dataframe tbody tr th:only-of-type {\n",
       "        vertical-align: middle;\n",
       "    }\n",
       "\n",
       "    .dataframe tbody tr th {\n",
       "        vertical-align: top;\n",
       "    }\n",
       "\n",
       "    .dataframe thead th {\n",
       "        text-align: right;\n",
       "    }\n",
       "</style>\n",
       "<table border=\"1\" class=\"dataframe\">\n",
       "  <thead>\n",
       "    <tr style=\"text-align: right;\">\n",
       "      <th></th>\n",
       "      <th>S_No</th>\n",
       "      <th>Year</th>\n",
       "      <th>Month</th>\n",
       "      <th>Product_ID</th>\n",
       "      <th>Country</th>\n",
       "    </tr>\n",
       "  </thead>\n",
       "  <tbody>\n",
       "    <tr>\n",
       "      <th>0</th>\n",
       "      <td>79073</td>\n",
       "      <td>2016</td>\n",
       "      <td>4</td>\n",
       "      <td>1</td>\n",
       "      <td>Argentina</td>\n",
       "    </tr>\n",
       "    <tr>\n",
       "      <th>1</th>\n",
       "      <td>79074</td>\n",
       "      <td>2016</td>\n",
       "      <td>5</td>\n",
       "      <td>1</td>\n",
       "      <td>Argentina</td>\n",
       "    </tr>\n",
       "    <tr>\n",
       "      <th>2</th>\n",
       "      <td>79075</td>\n",
       "      <td>2016</td>\n",
       "      <td>6</td>\n",
       "      <td>1</td>\n",
       "      <td>Argentina</td>\n",
       "    </tr>\n",
       "    <tr>\n",
       "      <th>3</th>\n",
       "      <td>79076</td>\n",
       "      <td>2016</td>\n",
       "      <td>7</td>\n",
       "      <td>1</td>\n",
       "      <td>Argentina</td>\n",
       "    </tr>\n",
       "    <tr>\n",
       "      <th>4</th>\n",
       "      <td>79077</td>\n",
       "      <td>2016</td>\n",
       "      <td>8</td>\n",
       "      <td>1</td>\n",
       "      <td>Argentina</td>\n",
       "    </tr>\n",
       "  </tbody>\n",
       "</table>\n",
       "</div>"
      ],
      "text/plain": [
       "    S_No  Year  Month  Product_ID    Country\n",
       "0  79073  2016      4           1  Argentina\n",
       "1  79074  2016      5           1  Argentina\n",
       "2  79075  2016      6           1  Argentina\n",
       "3  79076  2016      7           1  Argentina\n",
       "4  79077  2016      8           1  Argentina"
      ]
     },
     "execution_count": 10,
     "metadata": {},
     "output_type": "execute_result"
    }
   ],
   "source": [
    "test.head()"
   ]
  },
  {
   "cell_type": "code",
   "execution_count": 11,
   "metadata": {
    "collapsed": true
   },
   "outputs": [],
   "source": [
    "map_array = {\n",
    "    'Argentina': 0,\n",
    "    'Belgium':1,\n",
    "    'Columbia':2,\n",
    "    'Denmark':3,\n",
    "    'England':4,\n",
    "    'Finland':5\n",
    "}"
   ]
  },
  {
   "cell_type": "code",
   "execution_count": 12,
   "metadata": {
    "collapsed": true
   },
   "outputs": [],
   "source": [
    "test.Country = test.Country.map(map_array)"
   ]
  },
  {
   "cell_type": "code",
   "execution_count": 13,
   "metadata": {},
   "outputs": [
    {
     "data": {
      "text/html": [
       "<div>\n",
       "<style scoped>\n",
       "    .dataframe tbody tr th:only-of-type {\n",
       "        vertical-align: middle;\n",
       "    }\n",
       "\n",
       "    .dataframe tbody tr th {\n",
       "        vertical-align: top;\n",
       "    }\n",
       "\n",
       "    .dataframe thead th {\n",
       "        text-align: right;\n",
       "    }\n",
       "</style>\n",
       "<table border=\"1\" class=\"dataframe\">\n",
       "  <thead>\n",
       "    <tr style=\"text-align: right;\">\n",
       "      <th></th>\n",
       "      <th>S_No</th>\n",
       "      <th>Year</th>\n",
       "      <th>Month</th>\n",
       "      <th>Product_ID</th>\n",
       "      <th>Country</th>\n",
       "    </tr>\n",
       "  </thead>\n",
       "  <tbody>\n",
       "    <tr>\n",
       "      <th>0</th>\n",
       "      <td>79073</td>\n",
       "      <td>2016</td>\n",
       "      <td>4</td>\n",
       "      <td>1</td>\n",
       "      <td>0</td>\n",
       "    </tr>\n",
       "    <tr>\n",
       "      <th>1</th>\n",
       "      <td>79074</td>\n",
       "      <td>2016</td>\n",
       "      <td>5</td>\n",
       "      <td>1</td>\n",
       "      <td>0</td>\n",
       "    </tr>\n",
       "    <tr>\n",
       "      <th>2</th>\n",
       "      <td>79075</td>\n",
       "      <td>2016</td>\n",
       "      <td>6</td>\n",
       "      <td>1</td>\n",
       "      <td>0</td>\n",
       "    </tr>\n",
       "    <tr>\n",
       "      <th>3</th>\n",
       "      <td>79076</td>\n",
       "      <td>2016</td>\n",
       "      <td>7</td>\n",
       "      <td>1</td>\n",
       "      <td>0</td>\n",
       "    </tr>\n",
       "    <tr>\n",
       "      <th>4</th>\n",
       "      <td>79077</td>\n",
       "      <td>2016</td>\n",
       "      <td>8</td>\n",
       "      <td>1</td>\n",
       "      <td>0</td>\n",
       "    </tr>\n",
       "  </tbody>\n",
       "</table>\n",
       "</div>"
      ],
      "text/plain": [
       "    S_No  Year  Month  Product_ID  Country\n",
       "0  79073  2016      4           1        0\n",
       "1  79074  2016      5           1        0\n",
       "2  79075  2016      6           1        0\n",
       "3  79076  2016      7           1        0\n",
       "4  79077  2016      8           1        0"
      ]
     },
     "execution_count": 13,
     "metadata": {},
     "output_type": "execute_result"
    }
   ],
   "source": [
    "test.head()"
   ]
  },
  {
   "cell_type": "code",
   "execution_count": 183,
   "metadata": {},
   "outputs": [
    {
     "data": {
      "text/plain": [
       "105"
      ]
     },
     "execution_count": 183,
     "metadata": {},
     "output_type": "execute_result"
    }
   ],
   "source": [
    "len(test_1_a ) + len(test_2_a) + len(test_3_a) + len(test_2_b) + len(test_1_c) + len(test_2_c) + len(test_3_c) + len(test_2_d) + len(test_4_e) + len(test_5_e) + len(test_4_f)"
   ]
  },
  {
   "cell_type": "code",
   "execution_count": 16,
   "metadata": {},
   "outputs": [
    {
     "data": {
      "text/plain": [
       "[array([108541.1924]),\n",
       " array([110119.62939173]),\n",
       " array([131972.03541719]),\n",
       " array([128543.21382873]),\n",
       " array([115140.77135503]),\n",
       " array([134576.92703985]),\n",
       " array([122209.96823544]),\n",
       " array([123502.82598136]),\n",
       " array([126102.82957381]),\n",
       " array([124827.86482637]),\n",
       " array([124319.53982138]),\n",
       " array([125929.29096828])]"
      ]
     },
     "execution_count": 16,
     "metadata": {},
     "output_type": "execute_result"
    }
   ],
   "source": [
    "history_1_a = [x for x in train_1_a]\n",
    "predictions_1_a = []\n",
    "for t in range(len(test_1_a)):\n",
    "    model= ARIMA(history_1_a, order=(5,1,0))\n",
    "    model_fit = model.fit(disp=0)\n",
    "    output = model_fit.forecast()\n",
    "    yhat = output[0]\n",
    "    predictions_1_a.append(yhat)\n",
    "#     obs = test_1_a.iloc[t]\n",
    "    history_1_a.append(yhat)\n",
    "predictions_1_a"
   ]
  },
  {
   "cell_type": "code",
   "execution_count": 17,
   "metadata": {},
   "outputs": [
    {
     "name": "stderr",
     "output_type": "stream",
     "text": [
      "/home/sidkathuria14/.local/lib/python3.5/site-packages/statsmodels/base/model.py:508: ConvergenceWarning: Maximum Likelihood optimization failed to converge. Check mle_retvals\n",
      "  \"Check mle_retvals\", ConvergenceWarning)\n"
     ]
    },
    {
     "data": {
      "text/plain": [
       "[array([11934.96829563]),\n",
       " array([13205.95186924]),\n",
       " array([10891.40707656]),\n",
       " array([14439.19233737]),\n",
       " array([11337.49763839]),\n",
       " array([12118.16770118]),\n",
       " array([12269.49969371]),\n",
       " array([12396.8607567]),\n",
       " array([12065.86407596]),\n",
       " array([12408.20626693]),\n",
       " array([12122.63066827]),\n",
       " array([12173.66795873])]"
      ]
     },
     "execution_count": 17,
     "metadata": {},
     "output_type": "execute_result"
    }
   ],
   "source": [
    "history_2_a = [x for x in train_2_a]\n",
    "predictions_2_a = []\n",
    "for t in range(len(test_2_a)):\n",
    "    model= ARIMA(history_2_a, order=(5,1,0))\n",
    "    model_fit = model.fit(disp=0)\n",
    "    output = model_fit.forecast()\n",
    "    yhat = output[0]\n",
    "    predictions_2_a.append(yhat)\n",
    "#     obs = test_1_a.iloc[t]\n",
    "    history_2_a.append(yhat)\n",
    "predictions_2_a"
   ]
  },
  {
   "cell_type": "code",
   "execution_count": 18,
   "metadata": {},
   "outputs": [
    {
     "data": {
      "text/plain": [
       "[array([665220.07489748]), array([510939.8341125]), array([684740.42840349])]"
      ]
     },
     "execution_count": 18,
     "metadata": {},
     "output_type": "execute_result"
    }
   ],
   "source": [
    "history_3_a = [x for x in train_3_a]\n",
    "predictions_3_a = []\n",
    "for t in range(len(test_3_a)):\n",
    "    model= ARIMA(history_3_a, order=(5,1,0))\n",
    "    model_fit = model.fit(disp=0)\n",
    "    output = model_fit.forecast()\n",
    "    yhat = output[0]\n",
    "    predictions_3_a.append(yhat)\n",
    "#     obs = test_1_a.iloc[t]\n",
    "    history_3_a.append(yhat)\n",
    "predictions_3_a"
   ]
  },
  {
   "cell_type": "code",
   "execution_count": 19,
   "metadata": {},
   "outputs": [
    {
     "data": {
      "text/plain": [
       "[array([39039.45877867]),\n",
       " array([15250.00825399]),\n",
       " array([16595.48656186]),\n",
       " array([17947.70714377]),\n",
       " array([16402.33386328]),\n",
       " array([18930.50168055]),\n",
       " array([20611.99426702]),\n",
       " array([17544.43051079]),\n",
       " array([18092.63101235]),\n",
       " array([18288.08420979]),\n",
       " array([18321.94995171]),\n",
       " array([18695.92914849])]"
      ]
     },
     "execution_count": 19,
     "metadata": {},
     "output_type": "execute_result"
    }
   ],
   "source": [
    "history_2_b = [x for x in train_2_b]\n",
    "predictions_2_b = []\n",
    "for t in range(len(test_2_b)):\n",
    "    model= ARIMA(history_2_b, order=(5,1,0))\n",
    "    model_fit = model.fit(disp=0)\n",
    "    output = model_fit.forecast()\n",
    "    yhat = output[0]\n",
    "    predictions_2_b.append(yhat)\n",
    "#     obs = test_1_a.iloc[t]\n",
    "    history_2_b.append(yhat)\n",
    "predictions_2_b"
   ]
  },
  {
   "cell_type": "code",
   "execution_count": 20,
   "metadata": {},
   "outputs": [
    {
     "data": {
      "text/plain": [
       "[array([1714.13445948]),\n",
       " array([966.87201817]),\n",
       " array([1081.81680991]),\n",
       " array([1233.5445708]),\n",
       " array([1080.05507127]),\n",
       " array([1135.79281839]),\n",
       " array([1191.00655498]),\n",
       " array([1121.379052]),\n",
       " array([1140.96612269]),\n",
       " array([1148.29628132]),\n",
       " array([1135.45234299]),\n",
       " array([1144.03315164])]"
      ]
     },
     "execution_count": 20,
     "metadata": {},
     "output_type": "execute_result"
    }
   ],
   "source": [
    "history_1_c = [x for x in train_1_c]\n",
    "predictions_1_c = []\n",
    "for t in range(len(test_1_c)):\n",
    "    model= ARIMA(history_1_c, order=(5,1,0))\n",
    "    model_fit = model.fit(disp=0)\n",
    "    output = model_fit.forecast()\n",
    "    yhat = output[0]\n",
    "    predictions_1_c.append(yhat)\n",
    "#     obs = test_1_a.iloc[t]\n",
    "    history_1_c.append(yhat)\n",
    "predictions_1_c"
   ]
  },
  {
   "cell_type": "code",
   "execution_count": 21,
   "metadata": {},
   "outputs": [
    {
     "data": {
      "text/plain": [
       "[array([124532.51835367]),\n",
       " array([124532.51835367]),\n",
       " array([124532.51835367]),\n",
       " array([124532.51835367]),\n",
       " array([124532.51835367]),\n",
       " array([124532.51835367]),\n",
       " array([124532.51835367]),\n",
       " array([124532.51835367]),\n",
       " array([124532.51835367]),\n",
       " array([124532.51835367]),\n",
       " array([124532.51835367]),\n",
       " array([124532.51835367])]"
      ]
     },
     "execution_count": 21,
     "metadata": {},
     "output_type": "execute_result"
    }
   ],
   "source": [
    "history_2_c = [x for x in train_2_c]\n",
    "predictions_2_c = []\n",
    "for t in range(len(test_2_c)):\n",
    "    model= ARIMA(history_1_a, order=(5,1,0))\n",
    "    model_fit = model.fit(disp=0)\n",
    "    output = model_fit.forecast()\n",
    "    yhat = output[0]\n",
    "    predictions_2_c.append(yhat)\n",
    "#     obs = test_1_a.iloc[t]\n",
    "    history_2_c.append(yhat)\n",
    "predictions_2_c"
   ]
  },
  {
   "cell_type": "code",
   "execution_count": 22,
   "metadata": {},
   "outputs": [
    {
     "data": {
      "text/plain": [
       "[array([240.78515601]), array([74.0683601]), array([62.93179624])]"
      ]
     },
     "execution_count": 22,
     "metadata": {},
     "output_type": "execute_result"
    }
   ],
   "source": [
    "history_3_c = [x for x in train_3_c]\n",
    "predictions_3_c = []\n",
    "for t in range(len(test_3_c)):\n",
    "    model= ARIMA(history_3_c, order=(5,1,0))\n",
    "    model_fit = model.fit(disp=0)\n",
    "    output = model_fit.forecast()\n",
    "    yhat = output[0]\n",
    "    predictions_3_c.append(yhat)\n",
    "#     obs = test_1_a.iloc[t]\n",
    "    history_3_c.append(yhat)\n",
    "predictions_3_c"
   ]
  },
  {
   "cell_type": "code",
   "execution_count": 23,
   "metadata": {},
   "outputs": [
    {
     "data": {
      "text/plain": [
       "[array([2980.25347315]),\n",
       " array([3323.52908701]),\n",
       " array([3791.15301887]),\n",
       " array([4629.77890514]),\n",
       " array([5502.25867406]),\n",
       " array([2964.18767375]),\n",
       " array([3549.24576186]),\n",
       " array([3623.40134664]),\n",
       " array([3681.8401579]),\n",
       " array([3691.57559855]),\n",
       " array([3527.99046699]),\n",
       " array([3172.66110864])]"
      ]
     },
     "execution_count": 23,
     "metadata": {},
     "output_type": "execute_result"
    }
   ],
   "source": [
    "history_2_d = [x for x in train_2_d]\n",
    "predictions_2_d = []\n",
    "for t in range(len(test_2_d)):\n",
    "    model= ARIMA(history_2_d, order=(5,1,0))\n",
    "    model_fit = model.fit(disp=0)\n",
    "    output = model_fit.forecast()\n",
    "    yhat = output[0]\n",
    "    predictions_2_d.append(yhat)\n",
    "#     obs = test_1_a.iloc[t]\n",
    "    history_2_d.append(yhat)\n",
    "predictions_2_d"
   ]
  },
  {
   "cell_type": "code",
   "execution_count": 24,
   "metadata": {},
   "outputs": [
    {
     "data": {
      "text/plain": [
       "[array([1670.10623397]),\n",
       " array([2251.45152896]),\n",
       " array([1998.9258402]),\n",
       " array([2621.44388588]),\n",
       " array([1535.92780997]),\n",
       " array([1766.88179647]),\n",
       " array([1945.78423519]),\n",
       " array([2037.50281861]),\n",
       " array([1946.38724008])]"
      ]
     },
     "execution_count": 24,
     "metadata": {},
     "output_type": "execute_result"
    }
   ],
   "source": [
    "history_4_e = [x for x in train_4_e]\n",
    "predictions_4_e = []\n",
    "for t in range(len(test_4_e)):\n",
    "    model= ARIMA(history_4_e, order=(5,1,0))\n",
    "    model_fit = model.fit(disp=0)\n",
    "    output = model_fit.forecast()\n",
    "    yhat = output[0]\n",
    "    predictions_4_e.append(yhat)\n",
    "#     obs = test_1_a.iloc[t]\n",
    "    history_4_e.append(yhat)\n",
    "predictions_4_e"
   ]
  },
  {
   "cell_type": "code",
   "execution_count": 25,
   "metadata": {},
   "outputs": [
    {
     "data": {
      "text/plain": [
       "[array([5914.77533536]),\n",
       " array([6501.3760186]),\n",
       " array([2167.26854503]),\n",
       " array([2615.26099015]),\n",
       " array([3128.01752634]),\n",
       " array([3502.32598131]),\n",
       " array([3950.63714086]),\n",
       " array([3598.60057339]),\n",
       " array([3143.39490963])]"
      ]
     },
     "execution_count": 25,
     "metadata": {},
     "output_type": "execute_result"
    }
   ],
   "source": [
    "history_5_e = [x for x in train_5_e]\n",
    "predictions_5_e = []\n",
    "for t in range(len(test_5_e)):\n",
    "    model= ARIMA(history_5_e, order=(5,1,0))\n",
    "    model_fit = model.fit(disp=0)\n",
    "    output = model_fit.forecast()\n",
    "    yhat = output[0]\n",
    "    predictions_5_e.append(yhat)\n",
    "#     obs = test_1_a.iloc[t]\n",
    "    history_5_e.append(yhat)\n",
    "predictions_5_e"
   ]
  },
  {
   "cell_type": "code",
   "execution_count": 26,
   "metadata": {},
   "outputs": [
    {
     "data": {
      "text/plain": [
       "[array([9942.81148622]),\n",
       " array([3720.75824049]),\n",
       " array([2545.37862562]),\n",
       " array([1851.54231926]),\n",
       " array([2397.83428353]),\n",
       " array([2990.05133371]),\n",
       " array([4538.55663242]),\n",
       " array([3277.88655762]),\n",
       " array([2938.77282842])]"
      ]
     },
     "execution_count": 26,
     "metadata": {},
     "output_type": "execute_result"
    }
   ],
   "source": [
    "history_4_f = [x for x in train_4_f]\n",
    "predictions_4_f = []\n",
    "for t in range(len(test_4_f)):\n",
    "    model= ARIMA(history_4_f, order=(5,1,0))\n",
    "    model_fit = model.fit(disp=0)\n",
    "    output = model_fit.forecast()\n",
    "    yhat = output[0]\n",
    "    predictions_4_f.append(yhat)\n",
    "#     obs = test_1_a.iloc[t]\n",
    "    history_4_f.append(yhat)\n",
    "predictions_4_f"
   ]
  },
  {
   "cell_type": "code",
   "execution_count": null,
   "metadata": {
    "collapsed": true
   },
   "outputs": [],
   "source": [
    "# test.drop(columns = ['Sales'])"
   ]
  },
  {
   "cell_type": "code",
   "execution_count": 15,
   "metadata": {},
   "outputs": [
    {
     "name": "stderr",
     "output_type": "stream",
     "text": [
      "/home/sidkathuria14/.local/lib/python3.5/site-packages/ipykernel_launcher.py:1: UserWarning: Boolean Series key will be reindexed to match DataFrame index.\n",
      "  \"\"\"Entry point for launching an IPython kernel.\n",
      "/home/sidkathuria14/.local/lib/python3.5/site-packages/ipykernel_launcher.py:2: UserWarning: Boolean Series key will be reindexed to match DataFrame index.\n",
      "  \n",
      "/home/sidkathuria14/.local/lib/python3.5/site-packages/ipykernel_launcher.py:3: UserWarning: Boolean Series key will be reindexed to match DataFrame index.\n",
      "  This is separate from the ipykernel package so we can avoid doing imports until\n",
      "/home/sidkathuria14/.local/lib/python3.5/site-packages/ipykernel_launcher.py:5: UserWarning: Boolean Series key will be reindexed to match DataFrame index.\n",
      "  \"\"\"\n",
      "/home/sidkathuria14/.local/lib/python3.5/site-packages/ipykernel_launcher.py:7: UserWarning: Boolean Series key will be reindexed to match DataFrame index.\n",
      "  import sys\n",
      "/home/sidkathuria14/.local/lib/python3.5/site-packages/ipykernel_launcher.py:8: UserWarning: Boolean Series key will be reindexed to match DataFrame index.\n",
      "  \n",
      "/home/sidkathuria14/.local/lib/python3.5/site-packages/ipykernel_launcher.py:9: UserWarning: Boolean Series key will be reindexed to match DataFrame index.\n",
      "  if __name__ == '__main__':\n",
      "/home/sidkathuria14/.local/lib/python3.5/site-packages/ipykernel_launcher.py:11: UserWarning: Boolean Series key will be reindexed to match DataFrame index.\n",
      "  # This is added back by InteractiveShellApp.init_path()\n",
      "/home/sidkathuria14/.local/lib/python3.5/site-packages/ipykernel_launcher.py:13: UserWarning: Boolean Series key will be reindexed to match DataFrame index.\n",
      "  del sys.path[0]\n",
      "/home/sidkathuria14/.local/lib/python3.5/site-packages/ipykernel_launcher.py:14: UserWarning: Boolean Series key will be reindexed to match DataFrame index.\n",
      "  \n",
      "/home/sidkathuria14/.local/lib/python3.5/site-packages/ipykernel_launcher.py:16: UserWarning: Boolean Series key will be reindexed to match DataFrame index.\n",
      "  app.launch_new_instance()\n"
     ]
    }
   ],
   "source": [
    "test_1_a = test[test.Country == 0][test.Product_ID == 1]\n",
    "test_2_a = test[test.Country == 0][test.Product_ID == 2]\n",
    "test_3_a = test[test.Country == 0][test.Product_ID == 3]\n",
    "\n",
    "test_2_b = test[test.Country == 1][test.Product_ID == 2]\n",
    "\n",
    "test_1_c = test[test.Country == 2][test.Product_ID == 1]\n",
    "test_2_c = test[test.Country == 2][test.Product_ID == 2]\n",
    "test_3_c = test[test.Country == 2][test.Product_ID == 3]\n",
    "\n",
    "test_2_d = test[test.Country == 3][test.Product_ID == 2]\n",
    "\n",
    "test_4_e = test[test.Country == 4][test.Product_ID == 4]\n",
    "test_5_e = test[test.Country == 4][test.Product_ID == 5]\n",
    "\n",
    "test_4_f = test[test.Country == 5][test.Product_ID == 4]"
   ]
  },
  {
   "cell_type": "code",
   "execution_count": null,
   "metadata": {
    "collapsed": true
   },
   "outputs": [],
   "source": []
  },
  {
   "cell_type": "code",
   "execution_count": null,
   "metadata": {
    "collapsed": true
   },
   "outputs": [],
   "source": []
  },
  {
   "cell_type": "code",
   "execution_count": 181,
   "metadata": {},
   "outputs": [
    {
     "data": {
      "text/plain": [
       "33"
      ]
     },
     "execution_count": 181,
     "metadata": {},
     "output_type": "execute_result"
    }
   ],
   "source": [
    "len(y_1_a) + len(y_2_a) + len(y_3_a) + len(y_1_c) + len(y_2_b) + len(y_2_c) + len(y_3_c) + len(y_2_d) + len(y_4_e) + len(y_5_e) + len(y_4_f)"
   ]
  },
  {
   "cell_type": "code",
   "execution_count": 27,
   "metadata": {
    "collapsed": true
   },
   "outputs": [],
   "source": [
    "test['Sales'] = np.zeros(105)"
   ]
  },
  {
   "cell_type": "code",
   "execution_count": 28,
   "metadata": {},
   "outputs": [
    {
     "data": {
      "text/html": [
       "<div>\n",
       "<style scoped>\n",
       "    .dataframe tbody tr th:only-of-type {\n",
       "        vertical-align: middle;\n",
       "    }\n",
       "\n",
       "    .dataframe tbody tr th {\n",
       "        vertical-align: top;\n",
       "    }\n",
       "\n",
       "    .dataframe thead th {\n",
       "        text-align: right;\n",
       "    }\n",
       "</style>\n",
       "<table border=\"1\" class=\"dataframe\">\n",
       "  <thead>\n",
       "    <tr style=\"text-align: right;\">\n",
       "      <th></th>\n",
       "      <th>S_No</th>\n",
       "      <th>Year</th>\n",
       "      <th>Month</th>\n",
       "      <th>Product_ID</th>\n",
       "      <th>Country</th>\n",
       "      <th>Sales</th>\n",
       "    </tr>\n",
       "  </thead>\n",
       "  <tbody>\n",
       "    <tr>\n",
       "      <th>0</th>\n",
       "      <td>79073</td>\n",
       "      <td>2016</td>\n",
       "      <td>4</td>\n",
       "      <td>1</td>\n",
       "      <td>0</td>\n",
       "      <td>0.0</td>\n",
       "    </tr>\n",
       "    <tr>\n",
       "      <th>1</th>\n",
       "      <td>79074</td>\n",
       "      <td>2016</td>\n",
       "      <td>5</td>\n",
       "      <td>1</td>\n",
       "      <td>0</td>\n",
       "      <td>0.0</td>\n",
       "    </tr>\n",
       "    <tr>\n",
       "      <th>2</th>\n",
       "      <td>79075</td>\n",
       "      <td>2016</td>\n",
       "      <td>6</td>\n",
       "      <td>1</td>\n",
       "      <td>0</td>\n",
       "      <td>0.0</td>\n",
       "    </tr>\n",
       "    <tr>\n",
       "      <th>3</th>\n",
       "      <td>79076</td>\n",
       "      <td>2016</td>\n",
       "      <td>7</td>\n",
       "      <td>1</td>\n",
       "      <td>0</td>\n",
       "      <td>0.0</td>\n",
       "    </tr>\n",
       "    <tr>\n",
       "      <th>4</th>\n",
       "      <td>79077</td>\n",
       "      <td>2016</td>\n",
       "      <td>8</td>\n",
       "      <td>1</td>\n",
       "      <td>0</td>\n",
       "      <td>0.0</td>\n",
       "    </tr>\n",
       "  </tbody>\n",
       "</table>\n",
       "</div>"
      ],
      "text/plain": [
       "    S_No  Year  Month  Product_ID  Country  Sales\n",
       "0  79073  2016      4           1        0    0.0\n",
       "1  79074  2016      5           1        0    0.0\n",
       "2  79075  2016      6           1        0    0.0\n",
       "3  79076  2016      7           1        0    0.0\n",
       "4  79077  2016      8           1        0    0.0"
      ]
     },
     "execution_count": 28,
     "metadata": {},
     "output_type": "execute_result"
    }
   ],
   "source": [
    "test.head()"
   ]
  },
  {
   "cell_type": "code",
   "execution_count": 29,
   "metadata": {},
   "outputs": [],
   "source": [
    "# for i in range(len(predictions_1_a)):\n",
    "#     test[test.Country == 0][test.Product_ID == 1].Sales.iloc[i] = predictions_1_a[i]"
   ]
  },
  {
   "cell_type": "code",
   "execution_count": 30,
   "metadata": {},
   "outputs": [
    {
     "data": {
      "text/plain": [
       "[array([108541.1924]),\n",
       " array([110119.62939173]),\n",
       " array([131972.03541719]),\n",
       " array([128543.21382873]),\n",
       " array([115140.77135503]),\n",
       " array([134576.92703985]),\n",
       " array([122209.96823544]),\n",
       " array([123502.82598136]),\n",
       " array([126102.82957381]),\n",
       " array([124827.86482637]),\n",
       " array([124319.53982138]),\n",
       " array([125929.29096828])]"
      ]
     },
     "execution_count": 30,
     "metadata": {},
     "output_type": "execute_result"
    }
   ],
   "source": [
    "predictions_1_a"
   ]
  },
  {
   "cell_type": "code",
   "execution_count": 224,
   "metadata": {},
   "outputs": [
    {
     "name": "stderr",
     "output_type": "stream",
     "text": [
      "/home/sidkathuria14/.local/lib/python3.5/site-packages/ipykernel_launcher.py:1: UserWarning: Boolean Series key will be reindexed to match DataFrame index.\n",
      "  \"\"\"Entry point for launching an IPython kernel.\n"
     ]
    },
    {
     "data": {
      "text/html": [
       "<div>\n",
       "<style scoped>\n",
       "    .dataframe tbody tr th:only-of-type {\n",
       "        vertical-align: middle;\n",
       "    }\n",
       "\n",
       "    .dataframe tbody tr th {\n",
       "        vertical-align: top;\n",
       "    }\n",
       "\n",
       "    .dataframe thead th {\n",
       "        text-align: right;\n",
       "    }\n",
       "</style>\n",
       "<table border=\"1\" class=\"dataframe\">\n",
       "  <thead>\n",
       "    <tr style=\"text-align: right;\">\n",
       "      <th></th>\n",
       "      <th>Year</th>\n",
       "      <th>Month</th>\n",
       "      <th>Product_ID</th>\n",
       "      <th>Country</th>\n",
       "      <th>Sales</th>\n",
       "    </tr>\n",
       "  </thead>\n",
       "  <tbody>\n",
       "    <tr>\n",
       "      <th>0</th>\n",
       "      <td>2016</td>\n",
       "      <td>4</td>\n",
       "      <td>1</td>\n",
       "      <td>0</td>\n",
       "      <td>0.0</td>\n",
       "    </tr>\n",
       "    <tr>\n",
       "      <th>1</th>\n",
       "      <td>2016</td>\n",
       "      <td>5</td>\n",
       "      <td>1</td>\n",
       "      <td>0</td>\n",
       "      <td>0.0</td>\n",
       "    </tr>\n",
       "    <tr>\n",
       "      <th>2</th>\n",
       "      <td>2016</td>\n",
       "      <td>6</td>\n",
       "      <td>1</td>\n",
       "      <td>0</td>\n",
       "      <td>0.0</td>\n",
       "    </tr>\n",
       "    <tr>\n",
       "      <th>3</th>\n",
       "      <td>2016</td>\n",
       "      <td>7</td>\n",
       "      <td>1</td>\n",
       "      <td>0</td>\n",
       "      <td>0.0</td>\n",
       "    </tr>\n",
       "    <tr>\n",
       "      <th>4</th>\n",
       "      <td>2016</td>\n",
       "      <td>8</td>\n",
       "      <td>1</td>\n",
       "      <td>0</td>\n",
       "      <td>0.0</td>\n",
       "    </tr>\n",
       "    <tr>\n",
       "      <th>5</th>\n",
       "      <td>2016</td>\n",
       "      <td>9</td>\n",
       "      <td>1</td>\n",
       "      <td>0</td>\n",
       "      <td>0.0</td>\n",
       "    </tr>\n",
       "    <tr>\n",
       "      <th>6</th>\n",
       "      <td>2016</td>\n",
       "      <td>10</td>\n",
       "      <td>1</td>\n",
       "      <td>0</td>\n",
       "      <td>0.0</td>\n",
       "    </tr>\n",
       "    <tr>\n",
       "      <th>7</th>\n",
       "      <td>2016</td>\n",
       "      <td>11</td>\n",
       "      <td>1</td>\n",
       "      <td>0</td>\n",
       "      <td>0.0</td>\n",
       "    </tr>\n",
       "    <tr>\n",
       "      <th>8</th>\n",
       "      <td>2016</td>\n",
       "      <td>12</td>\n",
       "      <td>1</td>\n",
       "      <td>0</td>\n",
       "      <td>0.0</td>\n",
       "    </tr>\n",
       "    <tr>\n",
       "      <th>9</th>\n",
       "      <td>2017</td>\n",
       "      <td>1</td>\n",
       "      <td>1</td>\n",
       "      <td>0</td>\n",
       "      <td>0.0</td>\n",
       "    </tr>\n",
       "    <tr>\n",
       "      <th>10</th>\n",
       "      <td>2017</td>\n",
       "      <td>2</td>\n",
       "      <td>1</td>\n",
       "      <td>0</td>\n",
       "      <td>0.0</td>\n",
       "    </tr>\n",
       "    <tr>\n",
       "      <th>11</th>\n",
       "      <td>2017</td>\n",
       "      <td>3</td>\n",
       "      <td>1</td>\n",
       "      <td>0</td>\n",
       "      <td>0.0</td>\n",
       "    </tr>\n",
       "  </tbody>\n",
       "</table>\n",
       "</div>"
      ],
      "text/plain": [
       "    Year  Month  Product_ID  Country  Sales\n",
       "0   2016      4           1        0    0.0\n",
       "1   2016      5           1        0    0.0\n",
       "2   2016      6           1        0    0.0\n",
       "3   2016      7           1        0    0.0\n",
       "4   2016      8           1        0    0.0\n",
       "5   2016      9           1        0    0.0\n",
       "6   2016     10           1        0    0.0\n",
       "7   2016     11           1        0    0.0\n",
       "8   2016     12           1        0    0.0\n",
       "9   2017      1           1        0    0.0\n",
       "10  2017      2           1        0    0.0\n",
       "11  2017      3           1        0    0.0"
      ]
     },
     "execution_count": 224,
     "metadata": {},
     "output_type": "execute_result"
    }
   ],
   "source": [
    "test[test.Country == 0][test.Product_ID == 1]"
   ]
  },
  {
   "cell_type": "code",
   "execution_count": 228,
   "metadata": {},
   "outputs": [
    {
     "data": {
      "text/html": [
       "<div>\n",
       "<style scoped>\n",
       "    .dataframe tbody tr th:only-of-type {\n",
       "        vertical-align: middle;\n",
       "    }\n",
       "\n",
       "    .dataframe tbody tr th {\n",
       "        vertical-align: top;\n",
       "    }\n",
       "\n",
       "    .dataframe thead th {\n",
       "        text-align: right;\n",
       "    }\n",
       "</style>\n",
       "<table border=\"1\" class=\"dataframe\">\n",
       "  <thead>\n",
       "    <tr style=\"text-align: right;\">\n",
       "      <th></th>\n",
       "      <th>Year</th>\n",
       "      <th>Month</th>\n",
       "      <th>Product_ID</th>\n",
       "      <th>Country</th>\n",
       "    </tr>\n",
       "  </thead>\n",
       "  <tbody>\n",
       "    <tr>\n",
       "      <th>0</th>\n",
       "      <td>2016</td>\n",
       "      <td>4</td>\n",
       "      <td>1</td>\n",
       "      <td>0</td>\n",
       "    </tr>\n",
       "    <tr>\n",
       "      <th>1</th>\n",
       "      <td>2016</td>\n",
       "      <td>5</td>\n",
       "      <td>1</td>\n",
       "      <td>0</td>\n",
       "    </tr>\n",
       "    <tr>\n",
       "      <th>2</th>\n",
       "      <td>2016</td>\n",
       "      <td>6</td>\n",
       "      <td>1</td>\n",
       "      <td>0</td>\n",
       "    </tr>\n",
       "    <tr>\n",
       "      <th>3</th>\n",
       "      <td>2016</td>\n",
       "      <td>7</td>\n",
       "      <td>1</td>\n",
       "      <td>0</td>\n",
       "    </tr>\n",
       "    <tr>\n",
       "      <th>4</th>\n",
       "      <td>2016</td>\n",
       "      <td>8</td>\n",
       "      <td>1</td>\n",
       "      <td>0</td>\n",
       "    </tr>\n",
       "    <tr>\n",
       "      <th>5</th>\n",
       "      <td>2016</td>\n",
       "      <td>9</td>\n",
       "      <td>1</td>\n",
       "      <td>0</td>\n",
       "    </tr>\n",
       "    <tr>\n",
       "      <th>6</th>\n",
       "      <td>2016</td>\n",
       "      <td>10</td>\n",
       "      <td>1</td>\n",
       "      <td>0</td>\n",
       "    </tr>\n",
       "    <tr>\n",
       "      <th>7</th>\n",
       "      <td>2016</td>\n",
       "      <td>11</td>\n",
       "      <td>1</td>\n",
       "      <td>0</td>\n",
       "    </tr>\n",
       "    <tr>\n",
       "      <th>8</th>\n",
       "      <td>2016</td>\n",
       "      <td>12</td>\n",
       "      <td>1</td>\n",
       "      <td>0</td>\n",
       "    </tr>\n",
       "    <tr>\n",
       "      <th>9</th>\n",
       "      <td>2017</td>\n",
       "      <td>1</td>\n",
       "      <td>1</td>\n",
       "      <td>0</td>\n",
       "    </tr>\n",
       "    <tr>\n",
       "      <th>10</th>\n",
       "      <td>2017</td>\n",
       "      <td>2</td>\n",
       "      <td>1</td>\n",
       "      <td>0</td>\n",
       "    </tr>\n",
       "    <tr>\n",
       "      <th>11</th>\n",
       "      <td>2017</td>\n",
       "      <td>3</td>\n",
       "      <td>1</td>\n",
       "      <td>0</td>\n",
       "    </tr>\n",
       "  </tbody>\n",
       "</table>\n",
       "</div>"
      ],
      "text/plain": [
       "    Year  Month  Product_ID  Country\n",
       "0   2016      4           1        0\n",
       "1   2016      5           1        0\n",
       "2   2016      6           1        0\n",
       "3   2016      7           1        0\n",
       "4   2016      8           1        0\n",
       "5   2016      9           1        0\n",
       "6   2016     10           1        0\n",
       "7   2016     11           1        0\n",
       "8   2016     12           1        0\n",
       "9   2017      1           1        0\n",
       "10  2017      2           1        0\n",
       "11  2017      3           1        0"
      ]
     },
     "execution_count": 228,
     "metadata": {},
     "output_type": "execute_result"
    }
   ],
   "source": [
    "test_1_a"
   ]
  },
  {
   "cell_type": "code",
   "execution_count": 233,
   "metadata": {},
   "outputs": [
    {
     "data": {
      "text/html": [
       "<div>\n",
       "<style scoped>\n",
       "    .dataframe tbody tr th:only-of-type {\n",
       "        vertical-align: middle;\n",
       "    }\n",
       "\n",
       "    .dataframe tbody tr th {\n",
       "        vertical-align: top;\n",
       "    }\n",
       "\n",
       "    .dataframe thead th {\n",
       "        text-align: right;\n",
       "    }\n",
       "</style>\n",
       "<table border=\"1\" class=\"dataframe\">\n",
       "  <thead>\n",
       "    <tr style=\"text-align: right;\">\n",
       "      <th></th>\n",
       "      <th>Year</th>\n",
       "      <th>Month</th>\n",
       "      <th>Product_ID</th>\n",
       "      <th>Country</th>\n",
       "      <th>Sales</th>\n",
       "    </tr>\n",
       "  </thead>\n",
       "  <tbody>\n",
       "    <tr>\n",
       "      <th>0</th>\n",
       "      <td>2016</td>\n",
       "      <td>4</td>\n",
       "      <td>1</td>\n",
       "      <td>0</td>\n",
       "      <td>0.0</td>\n",
       "    </tr>\n",
       "    <tr>\n",
       "      <th>1</th>\n",
       "      <td>2016</td>\n",
       "      <td>5</td>\n",
       "      <td>1</td>\n",
       "      <td>0</td>\n",
       "      <td>0.0</td>\n",
       "    </tr>\n",
       "    <tr>\n",
       "      <th>2</th>\n",
       "      <td>2016</td>\n",
       "      <td>6</td>\n",
       "      <td>1</td>\n",
       "      <td>0</td>\n",
       "      <td>0.0</td>\n",
       "    </tr>\n",
       "    <tr>\n",
       "      <th>3</th>\n",
       "      <td>2016</td>\n",
       "      <td>7</td>\n",
       "      <td>1</td>\n",
       "      <td>0</td>\n",
       "      <td>0.0</td>\n",
       "    </tr>\n",
       "    <tr>\n",
       "      <th>4</th>\n",
       "      <td>2016</td>\n",
       "      <td>8</td>\n",
       "      <td>1</td>\n",
       "      <td>0</td>\n",
       "      <td>0.0</td>\n",
       "    </tr>\n",
       "  </tbody>\n",
       "</table>\n",
       "</div>"
      ],
      "text/plain": [
       "   Year  Month  Product_ID  Country  Sales\n",
       "0  2016      4           1        0    0.0\n",
       "1  2016      5           1        0    0.0\n",
       "2  2016      6           1        0    0.0\n",
       "3  2016      7           1        0    0.0\n",
       "4  2016      8           1        0    0.0"
      ]
     },
     "execution_count": 233,
     "metadata": {},
     "output_type": "execute_result"
    }
   ],
   "source": [
    "test.head()"
   ]
  },
  {
   "cell_type": "code",
   "execution_count": 68,
   "metadata": {
    "collapsed": true
   },
   "outputs": [],
   "source": [
    "rev_map = {\n",
    "    0:'Argentina',\n",
    "    1:'Belgium',\n",
    "    2:'Columbia',\n",
    "    3:'Denmark',\n",
    "    4:'England',\n",
    "    5:'Finland'\n",
    "}"
   ]
  },
  {
   "cell_type": "code",
   "execution_count": 236,
   "metadata": {
    "collapsed": true
   },
   "outputs": [],
   "source": [
    "test.Country = test.Country.map(rev_map)"
   ]
  },
  {
   "cell_type": "code",
   "execution_count": 237,
   "metadata": {},
   "outputs": [
    {
     "data": {
      "text/html": [
       "<div>\n",
       "<style scoped>\n",
       "    .dataframe tbody tr th:only-of-type {\n",
       "        vertical-align: middle;\n",
       "    }\n",
       "\n",
       "    .dataframe tbody tr th {\n",
       "        vertical-align: top;\n",
       "    }\n",
       "\n",
       "    .dataframe thead th {\n",
       "        text-align: right;\n",
       "    }\n",
       "</style>\n",
       "<table border=\"1\" class=\"dataframe\">\n",
       "  <thead>\n",
       "    <tr style=\"text-align: right;\">\n",
       "      <th></th>\n",
       "      <th>Year</th>\n",
       "      <th>Month</th>\n",
       "      <th>Product_ID</th>\n",
       "      <th>Country</th>\n",
       "      <th>Sales</th>\n",
       "    </tr>\n",
       "  </thead>\n",
       "  <tbody>\n",
       "    <tr>\n",
       "      <th>0</th>\n",
       "      <td>2016</td>\n",
       "      <td>4</td>\n",
       "      <td>1</td>\n",
       "      <td>Argentina</td>\n",
       "      <td>0.0</td>\n",
       "    </tr>\n",
       "    <tr>\n",
       "      <th>1</th>\n",
       "      <td>2016</td>\n",
       "      <td>5</td>\n",
       "      <td>1</td>\n",
       "      <td>Argentina</td>\n",
       "      <td>0.0</td>\n",
       "    </tr>\n",
       "    <tr>\n",
       "      <th>2</th>\n",
       "      <td>2016</td>\n",
       "      <td>6</td>\n",
       "      <td>1</td>\n",
       "      <td>Argentina</td>\n",
       "      <td>0.0</td>\n",
       "    </tr>\n",
       "    <tr>\n",
       "      <th>3</th>\n",
       "      <td>2016</td>\n",
       "      <td>7</td>\n",
       "      <td>1</td>\n",
       "      <td>Argentina</td>\n",
       "      <td>0.0</td>\n",
       "    </tr>\n",
       "    <tr>\n",
       "      <th>4</th>\n",
       "      <td>2016</td>\n",
       "      <td>8</td>\n",
       "      <td>1</td>\n",
       "      <td>Argentina</td>\n",
       "      <td>0.0</td>\n",
       "    </tr>\n",
       "  </tbody>\n",
       "</table>\n",
       "</div>"
      ],
      "text/plain": [
       "   Year  Month  Product_ID    Country  Sales\n",
       "0  2016      4           1  Argentina    0.0\n",
       "1  2016      5           1  Argentina    0.0\n",
       "2  2016      6           1  Argentina    0.0\n",
       "3  2016      7           1  Argentina    0.0\n",
       "4  2016      8           1  Argentina    0.0"
      ]
     },
     "execution_count": 237,
     "metadata": {},
     "output_type": "execute_result"
    }
   ],
   "source": [
    "test.head()"
   ]
  },
  {
   "cell_type": "code",
   "execution_count": 42,
   "metadata": {},
   "outputs": [
    {
     "data": {
      "text/html": [
       "<div>\n",
       "<style scoped>\n",
       "    .dataframe tbody tr th:only-of-type {\n",
       "        vertical-align: middle;\n",
       "    }\n",
       "\n",
       "    .dataframe tbody tr th {\n",
       "        vertical-align: top;\n",
       "    }\n",
       "\n",
       "    .dataframe thead th {\n",
       "        text-align: right;\n",
       "    }\n",
       "</style>\n",
       "<table border=\"1\" class=\"dataframe\">\n",
       "  <thead>\n",
       "    <tr style=\"text-align: right;\">\n",
       "      <th></th>\n",
       "      <th>0</th>\n",
       "      <th>1</th>\n",
       "      <th>2</th>\n",
       "      <th>3</th>\n",
       "      <th>4</th>\n",
       "      <th>5</th>\n",
       "    </tr>\n",
       "  </thead>\n",
       "  <tbody>\n",
       "    <tr>\n",
       "      <th>0</th>\n",
       "      <td>79085</td>\n",
       "      <td>2016</td>\n",
       "      <td>4</td>\n",
       "      <td>2</td>\n",
       "      <td>0</td>\n",
       "      <td>11934.968296</td>\n",
       "    </tr>\n",
       "    <tr>\n",
       "      <th>1</th>\n",
       "      <td>79086</td>\n",
       "      <td>2016</td>\n",
       "      <td>5</td>\n",
       "      <td>2</td>\n",
       "      <td>0</td>\n",
       "      <td>13205.951869</td>\n",
       "    </tr>\n",
       "    <tr>\n",
       "      <th>2</th>\n",
       "      <td>79087</td>\n",
       "      <td>2016</td>\n",
       "      <td>6</td>\n",
       "      <td>2</td>\n",
       "      <td>0</td>\n",
       "      <td>10891.407077</td>\n",
       "    </tr>\n",
       "    <tr>\n",
       "      <th>3</th>\n",
       "      <td>79088</td>\n",
       "      <td>2016</td>\n",
       "      <td>7</td>\n",
       "      <td>2</td>\n",
       "      <td>0</td>\n",
       "      <td>14439.192337</td>\n",
       "    </tr>\n",
       "    <tr>\n",
       "      <th>4</th>\n",
       "      <td>79089</td>\n",
       "      <td>2016</td>\n",
       "      <td>8</td>\n",
       "      <td>2</td>\n",
       "      <td>0</td>\n",
       "      <td>11337.497638</td>\n",
       "    </tr>\n",
       "    <tr>\n",
       "      <th>5</th>\n",
       "      <td>79090</td>\n",
       "      <td>2016</td>\n",
       "      <td>9</td>\n",
       "      <td>2</td>\n",
       "      <td>0</td>\n",
       "      <td>12118.167701</td>\n",
       "    </tr>\n",
       "    <tr>\n",
       "      <th>6</th>\n",
       "      <td>79091</td>\n",
       "      <td>2016</td>\n",
       "      <td>10</td>\n",
       "      <td>2</td>\n",
       "      <td>0</td>\n",
       "      <td>12269.499694</td>\n",
       "    </tr>\n",
       "    <tr>\n",
       "      <th>7</th>\n",
       "      <td>79092</td>\n",
       "      <td>2016</td>\n",
       "      <td>11</td>\n",
       "      <td>2</td>\n",
       "      <td>0</td>\n",
       "      <td>12396.860757</td>\n",
       "    </tr>\n",
       "    <tr>\n",
       "      <th>8</th>\n",
       "      <td>79093</td>\n",
       "      <td>2016</td>\n",
       "      <td>12</td>\n",
       "      <td>2</td>\n",
       "      <td>0</td>\n",
       "      <td>12065.864076</td>\n",
       "    </tr>\n",
       "    <tr>\n",
       "      <th>9</th>\n",
       "      <td>79094</td>\n",
       "      <td>2017</td>\n",
       "      <td>1</td>\n",
       "      <td>2</td>\n",
       "      <td>0</td>\n",
       "      <td>12408.206267</td>\n",
       "    </tr>\n",
       "    <tr>\n",
       "      <th>10</th>\n",
       "      <td>79095</td>\n",
       "      <td>2017</td>\n",
       "      <td>2</td>\n",
       "      <td>2</td>\n",
       "      <td>0</td>\n",
       "      <td>12122.630668</td>\n",
       "    </tr>\n",
       "    <tr>\n",
       "      <th>11</th>\n",
       "      <td>79096</td>\n",
       "      <td>2017</td>\n",
       "      <td>3</td>\n",
       "      <td>2</td>\n",
       "      <td>0</td>\n",
       "      <td>12173.667959</td>\n",
       "    </tr>\n",
       "  </tbody>\n",
       "</table>\n",
       "</div>"
      ],
      "text/plain": [
       "        0     1   2  3  4             5\n",
       "0   79085  2016   4  2  0  11934.968296\n",
       "1   79086  2016   5  2  0  13205.951869\n",
       "2   79087  2016   6  2  0  10891.407077\n",
       "3   79088  2016   7  2  0  14439.192337\n",
       "4   79089  2016   8  2  0  11337.497638\n",
       "5   79090  2016   9  2  0  12118.167701\n",
       "6   79091  2016  10  2  0  12269.499694\n",
       "7   79092  2016  11  2  0  12396.860757\n",
       "8   79093  2016  12  2  0  12065.864076\n",
       "9   79094  2017   1  2  0  12408.206267\n",
       "10  79095  2017   2  2  0  12122.630668\n",
       "11  79096  2017   3  2  0  12173.667959"
      ]
     },
     "execution_count": 42,
     "metadata": {},
     "output_type": "execute_result"
    }
   ],
   "source": [
    "# for i in range(105):\n",
    "#     if test.Country == 'Argentina':\n",
    "#         if test.Product_ID == 1:\n",
    "#             test.iloc[i,4] = predictions_1_a\n",
    "\n",
    "# test_1_a = test[test.Country == 0][test.Product_ID == 1]\n",
    "# test_2_a = test[test.Country == 0][test.Product_ID == 2]\n",
    "# test_3_a = test[test.Country == 0][test.Product_ID == 3]\n",
    "\n",
    "# test_2_b = test[test.Country == 1][test.Product_ID == 2]\n",
    "\n",
    "# test_1_c = test[test.Country == 2][test.Product_ID == 1]\n",
    "# test_2_c = test[test.Country == 2][test.Product_ID == 2]\n",
    "# test_3_c = test[test.Country == 2][test.Product_ID == 3]\n",
    "\n",
    "# test_2_d = test[test.Country == 3][test.Product_ID == 2]\n",
    "\n",
    "# test_4_e = test[test.Country == 4][test.Product_ID == 4]\n",
    "# test_5_e = test[test.Country == 4][test.Product_ID == 5]\n",
    "\n",
    "# test_4_f = test[test.Country == 5][test.Product_ID == 4]\n",
    "test_2_a\n",
    "predictions_2_a\n",
    "pd.concat([test_2_a.reset_index(drop=True),DataFrame(predictions_2_a,columns = ['Sales']).reset_index(drop=True) ], ignore_index=True , axis = 1)"
   ]
  },
  {
   "cell_type": "code",
   "execution_count": 43,
   "metadata": {
    "collapsed": true
   },
   "outputs": [],
   "source": [
    "result_1_a = pd.concat([test_1_a.reset_index(drop=True), pd.DataFrame(predictions_1_a,columns = ['Sales']).reset_index(drop=True)], axis=1)\n",
    "result_2_a = pd.concat([test_2_a.reset_index(drop=True), pd.DataFrame(predictions_2_a,columns = ['Sales'])], axis=1)\n",
    "result_3_a = pd.concat([test_3_a.reset_index(drop=True), pd.DataFrame(predictions_3_a,columns = ['Sales'])], axis=1)\n",
    "\n",
    "result_2_b = pd.concat([test_2_b.reset_index(drop=True), pd.DataFrame(predictions_2_b,columns = ['Sales']).reset_index(drop=True)], axis=1)\n",
    "\n",
    "result_1_c = pd.concat([test_1_c.reset_index(drop=True), pd.DataFrame(predictions_1_c,columns = ['Sales']).reset_index(drop=True)], axis=1)\n",
    "result_2_c = pd.concat([test_2_c.reset_index(drop=True), pd.DataFrame(predictions_2_c,columns = ['Sales']).reset_index(drop=True)], axis=1)\n",
    "result_3_c = pd.concat([test_3_c.reset_index(drop=True), pd.DataFrame(predictions_3_c,columns = ['Sales']).reset_index(drop=True)], axis=1)\n",
    "\n",
    "result_2_d = pd.concat([test_2_d.reset_index(drop=True), pd.DataFrame(predictions_2_d,columns = ['Sales']).reset_index(drop=True)], axis=1)\n",
    "\n",
    "result_4_e = pd.concat([test_4_e.reset_index(drop=True), pd.DataFrame(predictions_4_e,columns = ['Sales']).reset_index(drop=True)], axis=1)\n",
    "result_5_e = pd.concat([test_5_e.reset_index(drop=True), pd.DataFrame(predictions_5_e,columns = ['Sales']).reset_index(drop=True)], axis=1)\n",
    "\n",
    "result_4_f = pd.concat([test_4_f.reset_index(drop=True), pd.DataFrame(predictions_4_f,columns = ['Sales']).reset_index(drop=True)], axis=1)"
   ]
  },
  {
   "cell_type": "code",
   "execution_count": 44,
   "metadata": {
    "collapsed": true
   },
   "outputs": [],
   "source": [
    "final = pd.concat([result_1_a,result_2_a,result_3_a,result_2_b,result_1_c,result_2_c,result_3_c,result_2_d,result_4_e,result_5_e,result_4_f],axis = 0)"
   ]
  },
  {
   "cell_type": "code",
   "execution_count": 256,
   "metadata": {
    "collapsed": true
   },
   "outputs": [],
   "source": [
    "# final.dropna(axis = 0)\n",
    "# final.describe()"
   ]
  },
  {
   "cell_type": "code",
   "execution_count": 51,
   "metadata": {},
   "outputs": [],
   "source": [
    "final = final.reset_index()"
   ]
  },
  {
   "cell_type": "code",
   "execution_count": 47,
   "metadata": {},
   "outputs": [],
   "source": [
    "# result_2_a"
   ]
  },
  {
   "cell_type": "code",
   "execution_count": 52,
   "metadata": {},
   "outputs": [
    {
     "data": {
      "text/html": [
       "<div>\n",
       "<style scoped>\n",
       "    .dataframe tbody tr th:only-of-type {\n",
       "        vertical-align: middle;\n",
       "    }\n",
       "\n",
       "    .dataframe tbody tr th {\n",
       "        vertical-align: top;\n",
       "    }\n",
       "\n",
       "    .dataframe thead th {\n",
       "        text-align: right;\n",
       "    }\n",
       "</style>\n",
       "<table border=\"1\" class=\"dataframe\">\n",
       "  <thead>\n",
       "    <tr style=\"text-align: right;\">\n",
       "      <th></th>\n",
       "      <th>index</th>\n",
       "      <th>S_No</th>\n",
       "      <th>Year</th>\n",
       "      <th>Month</th>\n",
       "      <th>Product_ID</th>\n",
       "      <th>Country</th>\n",
       "      <th>Sales</th>\n",
       "    </tr>\n",
       "  </thead>\n",
       "  <tbody>\n",
       "    <tr>\n",
       "      <th>0</th>\n",
       "      <td>0</td>\n",
       "      <td>79073</td>\n",
       "      <td>2016</td>\n",
       "      <td>4</td>\n",
       "      <td>1</td>\n",
       "      <td>0</td>\n",
       "      <td>108541.192400</td>\n",
       "    </tr>\n",
       "    <tr>\n",
       "      <th>1</th>\n",
       "      <td>1</td>\n",
       "      <td>79074</td>\n",
       "      <td>2016</td>\n",
       "      <td>5</td>\n",
       "      <td>1</td>\n",
       "      <td>0</td>\n",
       "      <td>110119.629392</td>\n",
       "    </tr>\n",
       "    <tr>\n",
       "      <th>2</th>\n",
       "      <td>2</td>\n",
       "      <td>79075</td>\n",
       "      <td>2016</td>\n",
       "      <td>6</td>\n",
       "      <td>1</td>\n",
       "      <td>0</td>\n",
       "      <td>131972.035417</td>\n",
       "    </tr>\n",
       "    <tr>\n",
       "      <th>3</th>\n",
       "      <td>3</td>\n",
       "      <td>79076</td>\n",
       "      <td>2016</td>\n",
       "      <td>7</td>\n",
       "      <td>1</td>\n",
       "      <td>0</td>\n",
       "      <td>128543.213829</td>\n",
       "    </tr>\n",
       "    <tr>\n",
       "      <th>4</th>\n",
       "      <td>4</td>\n",
       "      <td>79077</td>\n",
       "      <td>2016</td>\n",
       "      <td>8</td>\n",
       "      <td>1</td>\n",
       "      <td>0</td>\n",
       "      <td>115140.771355</td>\n",
       "    </tr>\n",
       "  </tbody>\n",
       "</table>\n",
       "</div>"
      ],
      "text/plain": [
       "   index   S_No  Year  Month  Product_ID  Country          Sales\n",
       "0      0  79073  2016      4           1        0  108541.192400\n",
       "1      1  79074  2016      5           1        0  110119.629392\n",
       "2      2  79075  2016      6           1        0  131972.035417\n",
       "3      3  79076  2016      7           1        0  128543.213829\n",
       "4      4  79077  2016      8           1        0  115140.771355"
      ]
     },
     "execution_count": 52,
     "metadata": {},
     "output_type": "execute_result"
    }
   ],
   "source": [
    "final.head()"
   ]
  },
  {
   "cell_type": "code",
   "execution_count": 61,
   "metadata": {},
   "outputs": [],
   "source": [
    "final.sort_values(by = [1],axis = 1,inplace = True)"
   ]
  },
  {
   "cell_type": "code",
   "execution_count": 66,
   "metadata": {},
   "outputs": [],
   "source": [
    "# final.to_csv('final.csv')"
   ]
  },
  {
   "cell_type": "code",
   "execution_count": 62,
   "metadata": {
    "collapsed": true
   },
   "outputs": [],
   "source": [
    "test2 = pd.read_csv('dataset/yds_test2018.csv')"
   ]
  },
  {
   "cell_type": "code",
   "execution_count": 65,
   "metadata": {},
   "outputs": [],
   "source": [
    "# final.subtract(test2)"
   ]
  },
  {
   "cell_type": "code",
   "execution_count": 70,
   "metadata": {},
   "outputs": [],
   "source": [
    "final.Country = final.Country.map(rev_map)"
   ]
  },
  {
   "cell_type": "code",
   "execution_count": 71,
   "metadata": {},
   "outputs": [
    {
     "data": {
      "text/plain": [
       "['Country', 'index', 'Product_ID', 'Month', 'Year', 'S_No', 'Sales']"
      ]
     },
     "execution_count": 71,
     "metadata": {},
     "output_type": "execute_result"
    }
   ],
   "source": [
    "cols = final.columns.tolist()\n",
    "cols"
   ]
  },
  {
   "cell_type": "code",
   "execution_count": 72,
   "metadata": {},
   "outputs": [
    {
     "data": {
      "text/html": [
       "<div>\n",
       "<style scoped>\n",
       "    .dataframe tbody tr th:only-of-type {\n",
       "        vertical-align: middle;\n",
       "    }\n",
       "\n",
       "    .dataframe tbody tr th {\n",
       "        vertical-align: top;\n",
       "    }\n",
       "\n",
       "    .dataframe thead th {\n",
       "        text-align: right;\n",
       "    }\n",
       "</style>\n",
       "<table border=\"1\" class=\"dataframe\">\n",
       "  <thead>\n",
       "    <tr style=\"text-align: right;\">\n",
       "      <th></th>\n",
       "      <th>S_No</th>\n",
       "      <th>Year</th>\n",
       "      <th>Month</th>\n",
       "      <th>Product_ID</th>\n",
       "      <th>Country</th>\n",
       "      <th>Sales</th>\n",
       "    </tr>\n",
       "  </thead>\n",
       "  <tbody>\n",
       "    <tr>\n",
       "      <th>0</th>\n",
       "      <td>79073</td>\n",
       "      <td>2016</td>\n",
       "      <td>4</td>\n",
       "      <td>1</td>\n",
       "      <td>Argentina</td>\n",
       "      <td>NaN</td>\n",
       "    </tr>\n",
       "    <tr>\n",
       "      <th>1</th>\n",
       "      <td>79074</td>\n",
       "      <td>2016</td>\n",
       "      <td>5</td>\n",
       "      <td>1</td>\n",
       "      <td>Argentina</td>\n",
       "      <td>NaN</td>\n",
       "    </tr>\n",
       "    <tr>\n",
       "      <th>2</th>\n",
       "      <td>79075</td>\n",
       "      <td>2016</td>\n",
       "      <td>6</td>\n",
       "      <td>1</td>\n",
       "      <td>Argentina</td>\n",
       "      <td>NaN</td>\n",
       "    </tr>\n",
       "    <tr>\n",
       "      <th>3</th>\n",
       "      <td>79076</td>\n",
       "      <td>2016</td>\n",
       "      <td>7</td>\n",
       "      <td>1</td>\n",
       "      <td>Argentina</td>\n",
       "      <td>NaN</td>\n",
       "    </tr>\n",
       "    <tr>\n",
       "      <th>4</th>\n",
       "      <td>79077</td>\n",
       "      <td>2016</td>\n",
       "      <td>8</td>\n",
       "      <td>1</td>\n",
       "      <td>Argentina</td>\n",
       "      <td>NaN</td>\n",
       "    </tr>\n",
       "  </tbody>\n",
       "</table>\n",
       "</div>"
      ],
      "text/plain": [
       "    S_No  Year  Month  Product_ID    Country  Sales\n",
       "0  79073  2016      4           1  Argentina    NaN\n",
       "1  79074  2016      5           1  Argentina    NaN\n",
       "2  79075  2016      6           1  Argentina    NaN\n",
       "3  79076  2016      7           1  Argentina    NaN\n",
       "4  79077  2016      8           1  Argentina    NaN"
      ]
     },
     "execution_count": 72,
     "metadata": {},
     "output_type": "execute_result"
    }
   ],
   "source": [
    "sample = pd.read_csv('dataset/sample_submission.csv')\n",
    "sample.head()"
   ]
  },
  {
   "cell_type": "code",
   "execution_count": 73,
   "metadata": {
    "collapsed": true
   },
   "outputs": [],
   "source": [
    "new_cols = ['S_No','Year','Month','Product_ID','Country','Sales']\n",
    "final = final[new_cols]"
   ]
  },
  {
   "cell_type": "code",
   "execution_count": 75,
   "metadata": {},
   "outputs": [],
   "source": [
    "final.to_csv('final.csv')"
   ]
  },
  {
   "cell_type": "code",
   "execution_count": null,
   "metadata": {
    "collapsed": true
   },
   "outputs": [],
   "source": []
  }
 ],
 "metadata": {
  "kernelspec": {
   "display_name": "Python 3",
   "language": "python",
   "name": "python3"
  },
  "language_info": {
   "codemirror_mode": {
    "name": "ipython",
    "version": 3
   },
   "file_extension": ".py",
   "mimetype": "text/x-python",
   "name": "python",
   "nbconvert_exporter": "python",
   "pygments_lexer": "ipython3",
   "version": "3.5.2"
  }
 },
 "nbformat": 4,
 "nbformat_minor": 2
}

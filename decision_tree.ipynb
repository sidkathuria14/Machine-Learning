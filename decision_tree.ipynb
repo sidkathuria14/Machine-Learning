{
 "cells": [
  {
   "cell_type": "markdown",
   "metadata": {},
   "source": [
    "Code to accompany Machine Learning Recipes #8. We'll write a Decision Tree Classifier, in pure Python. Below each of the methods, I've written a little demo to help explain what it does."
   ]
  },
  {
   "cell_type": "code",
   "execution_count": 1,
   "metadata": {
    "collapsed": true
   },
   "outputs": [],
   "source": [
    "# importing libraries\n",
    "from sklearn import datasets\n",
    "from sklearn.tree import DecisionTreeClassifier\n",
    "from sklearn.metrics import confusion_matrix\n",
    "from sklearn.model_selection import train_test_split\n",
    "import pandas as pd\n",
    "import numpy as np\n",
    "import math"
   ]
  },
  {
   "cell_type": "code",
   "execution_count": 2,
   "metadata": {
    "collapsed": true
   },
   "outputs": [],
   "source": [
    "#importing the dataset\n",
    "iris = datasets.load_iris()\n",
    "\n",
    "#  converting dataset to pandas DataFrame\n",
    "df = pd.DataFrame(data= np.c_[iris['data'], iris['target']],columns= iris['feature_names'] + ['target'])\n",
    "\n",
    "#  dataset splitting into train and test\n",
    "train,test = train_test_split(df,random_state = 20)"
   ]
  },
  {
   "cell_type": "code",
   "execution_count": 3,
   "metadata": {},
   "outputs": [
    {
     "data": {
      "text/plain": [
       "({0.0: 38, 1.0: 36, 2.0: 38}, {0.0: 12, 1.0: 14, 2.0: 12})"
      ]
     },
     "execution_count": 3,
     "metadata": {},
     "output_type": "execute_result"
    }
   ],
   "source": [
    "def class_counts(rows):\n",
    "#     Counts the number of each type of example in a dataset(counts number of different classes).\n",
    "    counts = {}  # a dictionary of label -> count.\n",
    "    for row in rows:\n",
    "        # in our dataset format, the label is always the last column\n",
    "        label = row[-1]\n",
    "        if label not in counts:\n",
    "            counts[label] = 0\n",
    "        counts[label] += 1\n",
    "    return counts\n",
    "#######\n",
    "class_counts(train.values),class_counts(test.values)"
   ]
  },
  {
   "cell_type": "code",
   "execution_count": 4,
   "metadata": {
    "collapsed": true
   },
   "outputs": [],
   "source": [
    "def is_numeric(value):\n",
    "# #     Test if a value is numeric.\n",
    "    return isinstance(value, int) or isinstance(value, float)\n",
    "# is_numeric(7),is_numeric(\"Red\")"
   ]
  },
  {
   "cell_type": "code",
   "execution_count": 5,
   "metadata": {
    "collapsed": true
   },
   "outputs": [],
   "source": [
    "class Question:\n",
    "#     A Question is used to partition a dataset.\n",
    "\n",
    "#     The 'match' method is used to compare\n",
    "#     the feature value in an example to the feature value stored in the\n",
    "#     question.\n",
    "    \n",
    "\n",
    "    def __init__(self, column, value):\n",
    "        self.column = column\n",
    "        self.value = value\n",
    "\n",
    "    def match(self, example):\n",
    "        # Compare the feature value in an example to the\n",
    "        # feature value in this question.\n",
    "        val = example[self.column]\n",
    "        if is_numeric(val):\n",
    "            return val >= self.value\n",
    "        else:\n",
    "            return val == self.value\n",
    "\n",
    "    def __repr__(self):\n",
    "        # This is just a helper method to print\n",
    "        # the question in a readable format.\n",
    "        condition = \"==\"\n",
    "        if is_numeric(self.value):\n",
    "            condition = \">=\"\n",
    "        return \"Is %s %s %s?\" % (\n",
    "            iris.feature_names[self.column], condition, str(self.value))"
   ]
  },
  {
   "cell_type": "code",
   "execution_count": 6,
   "metadata": {},
   "outputs": [
    {
     "data": {
      "text/plain": [
       "True"
      ]
     },
     "execution_count": 6,
     "metadata": {},
     "output_type": "execute_result"
    }
   ],
   "source": [
    "#######\n",
    "# example question\n",
    "q = Question(0, 5.9)\n",
    "example = train.iloc[0,:4]\n",
    "q.match(example)\n",
    "# iris.target[2]"
   ]
  },
  {
   "cell_type": "code",
   "execution_count": 7,
   "metadata": {
    "collapsed": true
   },
   "outputs": [],
   "source": [
    "def partition(rows, question):\n",
    "#     Partitions a dataset.\n",
    "\n",
    "#     For each row in the dataset, check if it matches the question. If\n",
    "#     so, add it to 'true rows', otherwise, add it to 'false rows'.\n",
    "    \n",
    "    true_rows, false_rows = [], []\n",
    "    for row in rows:\n",
    "        if question.match(row):\n",
    "            true_rows.append(row)\n",
    "        else:\n",
    "            false_rows.append(row)\n",
    "    return true_rows, false_rows\n",
    "true_rows, false_rows = partition(train.values, Question(0, 5))\n",
    "# true_rows,false_rows"
   ]
  },
  {
   "cell_type": "code",
   "execution_count": 8,
   "metadata": {},
   "outputs": [
    {
     "data": {
      "text/plain": [
       "1.0"
      ]
     },
     "execution_count": 8,
     "metadata": {},
     "output_type": "execute_result"
    }
   ],
   "source": [
    "def entropy(dictionary):\n",
    "    total = sum([dictionary[key] for key in dictionary])\n",
    "    entropy = 0\n",
    "    if total == 0:\n",
    "        return 0\n",
    "    else:\n",
    "        for key in dictionary:\n",
    "            x = dictionary[key]/total\n",
    "            if x!=0:\n",
    "                entropy -= x * math.log2(x)\n",
    "        \n",
    "    return entropy\n",
    "entropy({0:1,1:1})"
   ]
  },
  {
   "cell_type": "code",
   "execution_count": 9,
   "metadata": {},
   "outputs": [
    {
     "data": {
      "text/plain": [
       "(0.666454081632653, 0.664819944598338)"
      ]
     },
     "execution_count": 9,
     "metadata": {},
     "output_type": "execute_result"
    }
   ],
   "source": [
    "def gini(rows):\n",
    "#    Calculate the Gini Impurity for a list of rows.\n",
    "\n",
    "    counts = class_counts(rows)\n",
    "    impurity = 1\n",
    "    \n",
    "    for key in counts:\n",
    "        prob_of_lbl = counts[key] / len(rows)\n",
    "        impurity -= prob_of_lbl**2\n",
    "    return impurity\n",
    "gini(train.values),gini(test.values)"
   ]
  },
  {
   "cell_type": "code",
   "execution_count": 10,
   "metadata": {
    "collapsed": true
   },
   "outputs": [],
   "source": [
    "def gain_ratio():\n",
    "    return x"
   ]
  },
  {
   "cell_type": "code",
   "execution_count": 11,
   "metadata": {},
   "outputs": [
    {
     "data": {
      "text/plain": [
       "0.666454081632653"
      ]
     },
     "execution_count": 11,
     "metadata": {},
     "output_type": "execute_result"
    }
   ],
   "source": [
    "def info_gain(left, right, current_uncertainty):\n",
    "#     Calculate the Information Gain.\n",
    "\n",
    "    p = float(len(left)) / (len(left) + len(right))\n",
    "    return current_uncertainty - p * gini(left) - (1 - p) * gini(right)\n",
    "\n",
    "current_uncertainty = gini(train.values)\n",
    "current_uncertainty"
   ]
  },
  {
   "cell_type": "code",
   "execution_count": 12,
   "metadata": {},
   "outputs": [
    {
     "data": {
      "text/plain": [
       "0.09356778425655965"
      ]
     },
     "execution_count": 12,
     "metadata": {},
     "output_type": "execute_result"
    }
   ],
   "source": [
    "true_rows, false_rows = partition(train.values, Question(0, 5))\n",
    "# true_rows,false_rows\n",
    "info_gain(true_rows, false_rows, current_uncertainty)"
   ]
  },
  {
   "cell_type": "code",
   "execution_count": 13,
   "metadata": {
    "collapsed": true
   },
   "outputs": [],
   "source": [
    "def find_best_split(rows):\n",
    "    \"\"\"Find the best question to ask by iterating over every feature / value\n",
    "    and calculating the information gain.\"\"\"\n",
    "    best_gain = 0  # keep track of the best information gain\n",
    "    best_question = None  # keep train of the feature / value that produced it\n",
    "    current_uncertainty = gini(rows)\n",
    "#     n_features = len(rows[0]) - 1  # number of columns\n",
    "    n_features = 4\n",
    "    for col in range(n_features):  # for each feature\n",
    "\n",
    "        values = list(set([item[0] for item in train.values[:,:4]]))  # unique values in the column\n",
    "\n",
    "        for val in values:  # for each value\n",
    "\n",
    "            question = Question(col, val)\n",
    "\n",
    "            # try splitting the dataset\n",
    "            true_rows, false_rows = partition(rows, question)\n",
    "\n",
    "            # Skip this split if it doesn't divide the\n",
    "            # dataset.\n",
    "            if len(true_rows) == 0 or len(false_rows) == 0:\n",
    "                continue\n",
    "\n",
    "            # Calculate the information gain from this split\n",
    "            gain = info_gain(true_rows, false_rows, current_uncertainty)\n",
    "#             print(gain,question)\n",
    "\n",
    "            # You actually can use '>' instead of '>=' here\n",
    "            # but I wanted the tree to look a certain way for our\n",
    "            # toy dataset.\n",
    "            if gain >= best_gain:\n",
    "                best_gain, best_question = gain, question\n",
    "\n",
    "    return best_gain, best_question"
   ]
  },
  {
   "cell_type": "code",
   "execution_count": 14,
   "metadata": {},
   "outputs": [
    {
     "data": {
      "text/plain": [
       "(0.29162414965986383, Is petal length (cm) >= 4.8?)"
      ]
     },
     "execution_count": 14,
     "metadata": {},
     "output_type": "execute_result"
    }
   ],
   "source": [
    "#######\n",
    "# Find the best question to ask first for our train dataset.\n",
    "best_gain, best_question = find_best_split(train.values[:,:])\n",
    "best_gain,best_question\n",
    "#######"
   ]
  },
  {
   "cell_type": "code",
   "execution_count": 15,
   "metadata": {
    "collapsed": true
   },
   "outputs": [],
   "source": [
    "class Leaf:\n",
    "\n",
    "\n",
    "    def __init__(self, rows):\n",
    "        self.predictions = class_counts(rows)"
   ]
  },
  {
   "cell_type": "code",
   "execution_count": 16,
   "metadata": {
    "collapsed": true
   },
   "outputs": [],
   "source": [
    "class Decision_Node:\n",
    "#     A Decision Node asks a question.\n",
    "\n",
    "#     This holds a reference to the question, and to the two child nodes.\n",
    "\n",
    "    def __init__(self,\n",
    "                 question,\n",
    "                 true_branch,\n",
    "                 false_branch):\n",
    "        self.question = question\n",
    "        self.true_branch = true_branch\n",
    "        self.false_branch = false_branch"
   ]
  },
  {
   "cell_type": "code",
   "execution_count": 17,
   "metadata": {
    "collapsed": true
   },
   "outputs": [],
   "source": [
    "def build_tree(rows):\n",
    "#     Builds the tree.\n",
    "\n",
    "\n",
    "    gain, question = find_best_split(rows)\n",
    "\n",
    "# if leaf node is reached,return\n",
    "    if gain == 0:\n",
    "        return Leaf(rows)\n",
    "\n",
    "    # If we reach here, we have found a useful feature / value\n",
    "    # to partition on.\n",
    "    true_rows, false_rows = partition(rows, question)\n",
    "\n",
    "    \n",
    "    true_branch = build_tree(true_rows)\n",
    "    false_branch = build_tree(false_rows)\n",
    "\n",
    "    # Return a Question node.\n",
    "    # This records the best feature / value to ask at this point\n",
    "    \n",
    "    return Decision_Node(question, true_branch, false_branch)"
   ]
  },
  {
   "cell_type": "code",
   "execution_count": 18,
   "metadata": {
    "collapsed": true
   },
   "outputs": [],
   "source": [
    "def print_tree(node, spacing=\"\"):\n",
    "    count = 0\n",
    "    # Base case\n",
    "    if isinstance(node, Leaf):\n",
    "#         print()\n",
    "        print (spacing + \"Predict\", node.predictions)\n",
    "        count += 1\n",
    "        return\n",
    "\n",
    "    # Print the question at this node\n",
    "    print (spacing + str(node.question))\n",
    "\n",
    "    # Call this function recursively on the true branch\n",
    "    print (spacing + '--> True:')\n",
    "#     print()\n",
    "    print_tree(node.true_branch, spacing + \"  \")\n",
    "\n",
    "    # Call this function recursively on the false branch\n",
    "    print (spacing + '--> False:')\n",
    "#     print()\n",
    "    print_tree(node.false_branch, spacing + \"  \")"
   ]
  },
  {
   "cell_type": "code",
   "execution_count": 19,
   "metadata": {
    "collapsed": true
   },
   "outputs": [],
   "source": [
    "result_list = []\n",
    "# helper function which fills the list result_list \n",
    "def list_appender(node):\n",
    "#     result_list = []\n",
    "    if isinstance(node, Leaf):\n",
    "        result_list.append(node.predictions)\n",
    "        return\n",
    "\n",
    "    # appends the question\n",
    "    result_list.append(node.question)\n",
    "\n",
    "#     recursive calls\n",
    "    list_appender(node.true_branch)\n",
    "\n",
    "    list_appender(node.false_branch)\n"
   ]
  },
  {
   "cell_type": "code",
   "execution_count": 20,
   "metadata": {
    "collapsed": true
   },
   "outputs": [],
   "source": [
    "# creating a node mytree\n",
    "my_tree = build_tree(train.values)\n",
    "\n",
    "list_appender(my_tree)\n"
   ]
  },
  {
   "cell_type": "code",
   "execution_count": 21,
   "metadata": {},
   "outputs": [
    {
     "data": {
      "text/plain": [
       "[Is petal length (cm) >= 4.8?,\n",
       " Is petal length (cm) >= 5.2?,\n",
       " {2.0: 27},\n",
       " Is sepal length (cm) >= 6.6?,\n",
       " Is petal length (cm) >= 5.1?,\n",
       " {2.0: 1},\n",
       " {1.0: 2},\n",
       " Is sepal length (cm) >= 6.1?,\n",
       " {2.0: 5},\n",
       " Is sepal length (cm) >= 5.9?,\n",
       " Is sepal length (cm) >= 6.0?,\n",
       " Is petal length (cm) >= 5.1?,\n",
       " {1.0: 1},\n",
       " {2.0: 1},\n",
       " {1.0: 1},\n",
       " {2.0: 4},\n",
       " Is sepal length (cm) >= 5.5?,\n",
       " Is sepal width (cm) >= 4.4?,\n",
       " {0.0: 1},\n",
       " Is sepal length (cm) >= 5.6?,\n",
       " Is sepal length (cm) >= 5.9?,\n",
       " {1.0: 15},\n",
       " Is sepal length (cm) >= 5.7?,\n",
       " Is petal length (cm) >= 4.4?,\n",
       " {1.0: 1},\n",
       " Is sepal length (cm) >= 5.8?,\n",
       " {0.0: 1, 1.0: 2},\n",
       " {0.0: 1, 1.0: 3},\n",
       " {1.0: 4},\n",
       " Is petal length (cm) >= 4.4?,\n",
       " {1.0: 1},\n",
       " {0.0: 2, 1.0: 2},\n",
       " Is petal length (cm) >= 4.4?,\n",
       " {1.0: 1},\n",
       " Is sepal length (cm) >= 5.0?,\n",
       " Is sepal length (cm) >= 5.3?,\n",
       " {0.0: 5},\n",
       " Is sepal length (cm) >= 5.2?,\n",
       " {0.0: 2, 1.0: 1},\n",
       " Is sepal length (cm) >= 5.1?,\n",
       " {0.0: 5},\n",
       " {0.0: 7, 1.0: 2},\n",
       " {0.0: 14}]"
      ]
     },
     "execution_count": 21,
     "metadata": {},
     "output_type": "execute_result"
    }
   ],
   "source": [
    "result_list"
   ]
  },
  {
   "cell_type": "code",
   "execution_count": 22,
   "metadata": {
    "scrolled": false
   },
   "outputs": [
    {
     "name": "stdout",
     "output_type": "stream",
     "text": [
      "level:  0\n",
      "Count of  0.0  is:  0\n",
      "Count of  1.0  is:  0\n",
      "Count of  2.0  is:  0\n",
      "Current Entropy is:  0\n",
      "Splitting on Feature:  \" petal length (cm) \" with gain ratio:  0.29162414965986383\n",
      "\n",
      "level:  1\n",
      "Count of  0.0  is:  0\n",
      "Count of  1.0  is:  0\n",
      "Count of  2.0  is:  0\n",
      "Current Entropy is:  0\n",
      "Splitting on Feature:  \" petal length (cm) \" with gain ratio:  0.20805072028811522\n",
      "\n",
      "level:  2\n",
      "Count of  0.0  is:  0\n",
      "Count of  1.0  is:  0\n",
      "Count of  2.0  is:  27\n",
      "Current Entropy is  0.0\n",
      "Leaf Node Reached\n",
      "\n",
      "level:  3\n",
      "Count of  0.0  is:  0\n",
      "Count of  1.0  is:  0\n",
      "Count of  2.0  is:  27\n",
      "Current Entropy is:  0.0\n",
      "Splitting on Feature:  \" sepal length (cm) \" with gain ratio:  0.08333592963321124\n",
      "\n",
      "level:  4\n",
      "Count of  0.0  is:  0\n",
      "Count of  1.0  is:  0\n",
      "Count of  2.0  is:  27\n",
      "Current Entropy is:  0.0\n",
      "Splitting on Feature:  \" petal length (cm) \" with gain ratio:  0.23821747448979586\n",
      "\n",
      "level:  5\n",
      "Count of  0.0  is:  0\n",
      "Count of  1.0  is:  0\n",
      "Count of  2.0  is:  28\n",
      "Current Entropy is  0.0\n",
      "Leaf Node Reached\n",
      "\n",
      "level:  6\n",
      "Count of  0.0  is:  0\n",
      "Count of  1.0  is:  2\n",
      "Count of  2.0  is:  28\n",
      "Current Entropy is  0.0\n",
      "Leaf Node Reached\n",
      "\n",
      "level:  7\n",
      "Count of  0.0  is:  0\n",
      "Count of  1.0  is:  2\n",
      "Count of  2.0  is:  28\n",
      "Current Entropy is:  0.35335933502142136\n",
      "Splitting on Feature:  \" sepal length (cm) \" with gain ratio:  0.17883425465112396\n",
      "\n",
      "level:  8\n",
      "Count of  0.0  is:  0\n",
      "Count of  1.0  is:  2\n",
      "Count of  2.0  is:  33\n",
      "Current Entropy is  0.0\n",
      "Leaf Node Reached\n",
      "\n",
      "level:  9\n",
      "Count of  0.0  is:  0\n",
      "Count of  1.0  is:  2\n",
      "Count of  2.0  is:  33\n",
      "Current Entropy is:  0.31599713297842463\n",
      "Splitting on Feature:  \" sepal length (cm) \" with gain ratio:  0.18669255757947545\n",
      "\n",
      "level:  10\n",
      "Count of  0.0  is:  0\n",
      "Count of  1.0  is:  2\n",
      "Count of  2.0  is:  33\n",
      "Current Entropy is:  0.31599713297842463\n",
      "Splitting on Feature:  \" sepal length (cm) \" with gain ratio:  0.18597008475521354\n",
      "\n",
      "level:  11\n",
      "Count of  0.0  is:  0\n",
      "Count of  1.0  is:  2\n",
      "Count of  2.0  is:  33\n",
      "Current Entropy is:  0.31599713297842463\n",
      "Splitting on Feature:  \" petal length (cm) \" with gain ratio:  0.23821747448979586\n",
      "\n",
      "level:  12\n",
      "Count of  0.0  is:  0\n",
      "Count of  1.0  is:  3\n",
      "Count of  2.0  is:  33\n",
      "Current Entropy is  0.0\n",
      "Leaf Node Reached\n",
      "\n",
      "level:  13\n",
      "Count of  0.0  is:  0\n",
      "Count of  1.0  is:  3\n",
      "Count of  2.0  is:  34\n",
      "Current Entropy is  0.0\n",
      "Leaf Node Reached\n",
      "\n",
      "level:  14\n",
      "Count of  0.0  is:  0\n",
      "Count of  1.0  is:  4\n",
      "Count of  2.0  is:  34\n",
      "Current Entropy is  0.0\n",
      "Leaf Node Reached\n",
      "\n",
      "level:  15\n",
      "Count of  0.0  is:  0\n",
      "Count of  1.0  is:  4\n",
      "Count of  2.0  is:  38\n",
      "Current Entropy is  0.0\n",
      "Leaf Node Reached\n",
      "\n",
      "level:  16\n",
      "Count of  0.0  is:  0\n",
      "Count of  1.0  is:  4\n",
      "Count of  2.0  is:  38\n",
      "Current Entropy is:  0.4537163391869448\n",
      "Splitting on Feature:  \" sepal length (cm) \" with gain ratio:  0.22989037506894644\n",
      "\n",
      "level:  17\n",
      "Count of  0.0  is:  0\n",
      "Count of  1.0  is:  4\n",
      "Count of  2.0  is:  38\n",
      "Current Entropy is:  0.4537163391869448\n",
      "Splitting on Feature:  \" sepal width (cm) \" with gain ratio:  0.005900671079242414\n",
      "\n",
      "level:  18\n",
      "Count of  0.0  is:  1\n",
      "Count of  1.0  is:  4\n",
      "Count of  2.0  is:  38\n",
      "Current Entropy is  0.0\n",
      "Leaf Node Reached\n",
      "\n",
      "level:  19\n",
      "Count of  0.0  is:  1\n",
      "Count of  1.0  is:  4\n",
      "Count of  2.0  is:  38\n",
      "Current Entropy is:  0.6025148591007898\n",
      "Splitting on Feature:  \" sepal length (cm) \" with gain ratio:  0.2298894557823129\n",
      "\n",
      "level:  20\n",
      "Count of  0.0  is:  1\n",
      "Count of  1.0  is:  4\n",
      "Count of  2.0  is:  38\n",
      "Current Entropy is:  0.6025148591007898\n",
      "Splitting on Feature:  \" sepal length (cm) \" with gain ratio:  0.18669255757947545\n",
      "\n",
      "level:  21\n",
      "Count of  0.0  is:  1\n",
      "Count of  1.0  is:  19\n",
      "Count of  2.0  is:  38\n",
      "Current Entropy is  0.0\n",
      "Leaf Node Reached\n",
      "\n",
      "level:  22\n",
      "Count of  0.0  is:  1\n",
      "Count of  1.0  is:  19\n",
      "Count of  2.0  is:  38\n",
      "Current Entropy is:  1.028121197433014\n",
      "Splitting on Feature:  \" sepal length (cm) \" with gain ratio:  0.19748050202077547\n",
      "\n",
      "level:  23\n",
      "Count of  0.0  is:  1\n",
      "Count of  1.0  is:  19\n",
      "Count of  2.0  is:  38\n",
      "Current Entropy is:  1.028121197433014\n",
      "Splitting on Feature:  \" petal length (cm) \" with gain ratio:  0.23052334570191704\n",
      "\n",
      "level:  24\n",
      "Count of  0.0  is:  1\n",
      "Count of  1.0  is:  20\n",
      "Count of  2.0  is:  38\n",
      "Current Entropy is  0.0\n",
      "Leaf Node Reached\n",
      "\n",
      "level:  25\n",
      "Count of  0.0  is:  1\n",
      "Count of  1.0  is:  20\n",
      "Count of  2.0  is:  38\n",
      "Current Entropy is:  1.0375615678600871\n",
      "Splitting on Feature:  \" sepal length (cm) \" with gain ratio:  0.1982229194359736\n",
      "\n",
      "level:  26\n",
      "Count of  0.0  is:  2\n",
      "Count of  1.0  is:  22\n",
      "Count of  2.0  is:  38\n",
      "Current Entropy is  0.9182958340544896\n",
      "Leaf Node Reached\n",
      "\n",
      "level:  27\n",
      "Count of  0.0  is:  3\n",
      "Count of  1.0  is:  25\n",
      "Count of  2.0  is:  38\n",
      "Current Entropy is  0.8112781244591328\n",
      "Leaf Node Reached\n",
      "\n",
      "level:  28\n",
      "Count of  0.0  is:  3\n",
      "Count of  1.0  is:  29\n",
      "Count of  2.0  is:  38\n",
      "Current Entropy is  0.0\n",
      "Leaf Node Reached\n",
      "\n",
      "level:  29\n",
      "Count of  0.0  is:  3\n",
      "Count of  1.0  is:  29\n",
      "Count of  2.0  is:  38\n",
      "Current Entropy is:  1.1998889902061192\n",
      "Splitting on Feature:  \" petal length (cm) \" with gain ratio:  0.23052334570191704\n",
      "\n",
      "level:  30\n",
      "Count of  0.0  is:  3\n",
      "Count of  1.0  is:  30\n",
      "Count of  2.0  is:  38\n",
      "Current Entropy is  0.0\n",
      "Leaf Node Reached\n",
      "\n",
      "level:  31\n",
      "Count of  0.0  is:  5\n",
      "Count of  1.0  is:  32\n",
      "Count of  2.0  is:  38\n",
      "Current Entropy is  1.0\n",
      "Leaf Node Reached\n",
      "\n",
      "level:  32\n",
      "Count of  0.0  is:  5\n",
      "Count of  1.0  is:  32\n",
      "Count of  2.0  is:  38\n",
      "Current Entropy is:  1.2817402106919735\n",
      "Splitting on Feature:  \" petal length (cm) \" with gain ratio:  0.23052334570191704\n",
      "\n",
      "level:  33\n",
      "Count of  0.0  is:  5\n",
      "Count of  1.0  is:  33\n",
      "Count of  2.0  is:  38\n",
      "Current Entropy is  0.0\n",
      "Leaf Node Reached\n",
      "\n",
      "level:  34\n",
      "Count of  0.0  is:  5\n",
      "Count of  1.0  is:  33\n",
      "Count of  2.0  is:  38\n",
      "Current Entropy is:  1.280876303915664\n",
      "Splitting on Feature:  \" sepal length (cm) \" with gain ratio:  0.09356778425655965\n",
      "\n",
      "level:  35\n",
      "Count of  0.0  is:  5\n",
      "Count of  1.0  is:  33\n",
      "Count of  2.0  is:  38\n",
      "Current Entropy is:  1.280876303915664\n",
      "Splitting on Feature:  \" sepal length (cm) \" with gain ratio:  0.18508638521119314\n",
      "\n",
      "level:  36\n",
      "Count of  0.0  is:  10\n",
      "Count of  1.0  is:  33\n",
      "Count of  2.0  is:  38\n",
      "Current Entropy is  0.0\n",
      "Leaf Node Reached\n",
      "\n",
      "level:  37\n",
      "Count of  0.0  is:  10\n",
      "Count of  1.0  is:  33\n",
      "Count of  2.0  is:  38\n",
      "Current Entropy is:  1.4126212078406886\n",
      "Splitting on Feature:  \" sepal length (cm) \" with gain ratio:  0.17495748299319724\n",
      "\n",
      "level:  38\n",
      "Count of  0.0  is:  12\n",
      "Count of  1.0  is:  34\n",
      "Count of  2.0  is:  38\n",
      "Current Entropy is  0.9182958340544896\n",
      "Leaf Node Reached\n",
      "\n",
      "level:  39\n",
      "Count of  0.0  is:  12\n",
      "Count of  1.0  is:  34\n",
      "Count of  2.0  is:  38\n",
      "Current Entropy is:  1.4469063260880262\n",
      "Splitting on Feature:  \" sepal length (cm) \" with gain ratio:  0.12902997667068772\n",
      "\n",
      "level:  40\n",
      "Count of  0.0  is:  17\n",
      "Count of  1.0  is:  34\n",
      "Count of  2.0  is:  38\n",
      "Current Entropy is  0.0\n",
      "Leaf Node Reached\n",
      "\n",
      "level:  41\n",
      "Count of  0.0  is:  24\n",
      "Count of  1.0  is:  36\n",
      "Count of  2.0  is:  38\n",
      "Current Entropy is  0.7642045065086203\n",
      "Leaf Node Reached\n",
      "\n",
      "level:  42\n",
      "Count of  0.0  is:  38\n",
      "Count of  1.0  is:  36\n",
      "Count of  2.0  is:  38\n",
      "Current Entropy is  0.0\n",
      "Leaf Node Reached\n",
      "\n"
     ]
    }
   ],
   "source": [
    "# this cell prints the expected output from the result_list\n",
    "my_counts = {0.0:0,1.0:0,2.0:0}\n",
    "count = 0\n",
    "for element in result_list:\n",
    "    print('level: ',count)\n",
    "    if isinstance(element,Question):\n",
    "#         the element in the list is a question \n",
    "        for key1 in my_counts:\n",
    "            print('Count of ',key1,' is: ',my_counts[key1])\n",
    "        count += 1\n",
    "        print('Current Entropy is: ',entropy(my_counts))\n",
    "        true_rows, false_rows = partition(train.values, element)\n",
    "        print('Splitting on Feature: ','\"',' '.join(list(str(element).split())[1:4]),'\"' ,'with gain ratio: ',info_gain(true_rows, false_rows, gini(train.values)))\n",
    "        \n",
    "    else:\n",
    "#         the element in the list is a dictionary(node is reached)\n",
    "        for key in element:\n",
    "            my_counts[key] +=  element[key]\n",
    "        for key in my_counts:\n",
    "            print('Count of ',key,' is: ',my_counts[key])\n",
    "        print('Current Entropy is ',entropy(element))\n",
    "        count+=1\n",
    "        print('Leaf Node Reached')\n",
    "    print()"
   ]
  },
  {
   "cell_type": "code",
   "execution_count": 23,
   "metadata": {},
   "outputs": [
    {
     "data": {
      "text/plain": [
       "{1.0: 15}"
      ]
     },
     "execution_count": 23,
     "metadata": {},
     "output_type": "execute_result"
    }
   ],
   "source": [
    "# this function returns a dictionary which has different classes and their respective confidence\n",
    "def classify(row, node):\n",
    "\n",
    "    # Base case\n",
    "    if isinstance(node, Leaf):\n",
    "        return node.predictions\n",
    "\n",
    "    # Decide whether to follow the true-branch or the false-branch.\n",
    "    # Compare the feature / value stored in the node,\n",
    "    # to the example we're considering.\n",
    "    if node.question.match(row):\n",
    "        return classify(row, node.true_branch)\n",
    "    else:\n",
    "        return classify(row, node.false_branch)\n",
    "# It predicts that first row is class 1 with a confidence of 15\n",
    "classify(train.values[0,:5],my_tree)"
   ]
  },
  {
   "cell_type": "code",
   "execution_count": 24,
   "metadata": {},
   "outputs": [
    {
     "data": {
      "text/plain": [
       "1"
      ]
     },
     "execution_count": 24,
     "metadata": {},
     "output_type": "execute_result"
    }
   ],
   "source": [
    "# This function takes a dictionary as input and returns the key which has maximum value, i.e.\n",
    "# This function returns a class which has maximum probability of being correct\n",
    "def best_pred(dict):\n",
    "    confidence = -9999\n",
    "    dict.keys()\n",
    "    res = list(dict.keys())[0]\n",
    "    for key in dict:\n",
    "        if dict[key] >= confidence:\n",
    "            confidence = dict[key]\n",
    "            res = key\n",
    "    return res\n",
    "# check the demo\n",
    "best_pred( { 0 : 20, 1 : 21} )\n",
    "# class 1 is predicted as it has higher confidence"
   ]
  },
  {
   "cell_type": "code",
   "execution_count": 25,
   "metadata": {},
   "outputs": [
    {
     "data": {
      "text/plain": [
       "[[0.0, 0.0], [1.0, 1.0], [1.0, 1.0], [2.0, 2.0], [1.0, 1.0]]"
      ]
     },
     "execution_count": 25,
     "metadata": {},
     "output_type": "execute_result"
    }
   ],
   "source": [
    "#######\n",
    "# this is a list which contains sublists of actual values and predicted values by my model\n",
    "act_pred = []\n",
    "for i in range(len(test)):\n",
    "    act_pred.append([test.values[i,4],best_pred(classify(test.values[i,:5], my_tree))])\n",
    "act_pred[:5]\n",
    "#######"
   ]
  },
  {
   "cell_type": "code",
   "execution_count": 26,
   "metadata": {},
   "outputs": [
    {
     "name": "stdout",
     "output_type": "stream",
     "text": [
      "total wrong predictions:  5.0\n"
     ]
    },
    {
     "data": {
      "text/plain": [
       "0.13157894736842105"
      ]
     },
     "execution_count": 26,
     "metadata": {},
     "output_type": "execute_result"
    }
   ],
   "source": [
    "# this function checks the number of wrong predictions from the act_pred list generated above\n",
    "def accuracy(mylist):\n",
    "    count = 0\n",
    "    for sublist in mylist:\n",
    "        count += abs(sublist[1] - sublist[0])\n",
    "    print('total wrong predictions: ',count)\n",
    "    return count/len(mylist)\n",
    "accuracy(act_pred)"
   ]
  },
  {
   "cell_type": "code",
   "execution_count": 27,
   "metadata": {},
   "outputs": [
    {
     "name": "stdout",
     "output_type": "stream",
     "text": [
      "Is petal length (cm) >= 4.8?\n",
      "--> True:\n",
      "  Is petal length (cm) >= 5.2?\n",
      "  --> True:\n",
      "    Predict {2.0: 27}\n",
      "  --> False:\n",
      "    Is sepal length (cm) >= 6.6?\n",
      "    --> True:\n",
      "      Is petal length (cm) >= 5.1?\n",
      "      --> True:\n",
      "        Predict {2.0: 1}\n",
      "      --> False:\n",
      "        Predict {1.0: 2}\n",
      "    --> False:\n",
      "      Is sepal length (cm) >= 6.1?\n",
      "      --> True:\n",
      "        Predict {2.0: 5}\n",
      "      --> False:\n",
      "        Is sepal length (cm) >= 5.9?\n",
      "        --> True:\n",
      "          Is sepal length (cm) >= 6.0?\n",
      "          --> True:\n",
      "            Is petal length (cm) >= 5.1?\n",
      "            --> True:\n",
      "              Predict {1.0: 1}\n",
      "            --> False:\n",
      "              Predict {2.0: 1}\n",
      "          --> False:\n",
      "            Predict {1.0: 1}\n",
      "        --> False:\n",
      "          Predict {2.0: 4}\n",
      "--> False:\n",
      "  Is sepal length (cm) >= 5.5?\n",
      "  --> True:\n",
      "    Is sepal width (cm) >= 4.4?\n",
      "    --> True:\n",
      "      Predict {0.0: 1}\n",
      "    --> False:\n",
      "      Is sepal length (cm) >= 5.6?\n",
      "      --> True:\n",
      "        Is sepal length (cm) >= 5.9?\n",
      "        --> True:\n",
      "          Predict {1.0: 15}\n",
      "        --> False:\n",
      "          Is sepal length (cm) >= 5.7?\n",
      "          --> True:\n",
      "            Is petal length (cm) >= 4.4?\n",
      "            --> True:\n",
      "              Predict {1.0: 1}\n",
      "            --> False:\n",
      "              Is sepal length (cm) >= 5.8?\n",
      "              --> True:\n",
      "                Predict {0.0: 1, 1.0: 2}\n",
      "              --> False:\n",
      "                Predict {0.0: 1, 1.0: 3}\n",
      "          --> False:\n",
      "            Predict {1.0: 4}\n",
      "      --> False:\n",
      "        Is petal length (cm) >= 4.4?\n",
      "        --> True:\n",
      "          Predict {1.0: 1}\n",
      "        --> False:\n",
      "          Predict {0.0: 2, 1.0: 2}\n",
      "  --> False:\n",
      "    Is petal length (cm) >= 4.4?\n",
      "    --> True:\n",
      "      Predict {1.0: 1}\n",
      "    --> False:\n",
      "      Is sepal length (cm) >= 5.0?\n",
      "      --> True:\n",
      "        Is sepal length (cm) >= 5.3?\n",
      "        --> True:\n",
      "          Predict {0.0: 5}\n",
      "        --> False:\n",
      "          Is sepal length (cm) >= 5.2?\n",
      "          --> True:\n",
      "            Predict {0.0: 2, 1.0: 1}\n",
      "          --> False:\n",
      "            Is sepal length (cm) >= 5.1?\n",
      "            --> True:\n",
      "              Predict {0.0: 5}\n",
      "            --> False:\n",
      "              Predict {0.0: 7, 1.0: 2}\n",
      "      --> False:\n",
      "        Predict {0.0: 14}\n"
     ]
    }
   ],
   "source": [
    "# printing actual tree\n",
    "print_tree(my_tree)"
   ]
  },
  {
   "cell_type": "code",
   "execution_count": 28,
   "metadata": {},
   "outputs": [
    {
     "data": {
      "text/plain": [
       "array([[12,  0,  0],\n",
       "       [ 0, 14,  0],\n",
       "       [ 0,  3,  9]])"
      ]
     },
     "execution_count": 28,
     "metadata": {},
     "output_type": "execute_result"
    }
   ],
   "source": [
    "# Using Sklearn DecisionTreeClassifier\n",
    "model = DecisionTreeClassifier()\n",
    "model.fit(train.values[:,:4],train.values[:,4])\n",
    "pred = model.predict(test.values[:,:4])\n",
    "cm = confusion_matrix(test.values[:,4],pred)\n",
    "cm\n",
    "# sklearn classifier model made 3 predictions wrong and my model made 5 predictions wrong"
   ]
  },
  {
   "cell_type": "code",
   "execution_count": null,
   "metadata": {
    "collapsed": true
   },
   "outputs": [],
   "source": []
  }
 ],
 "metadata": {
  "kernelspec": {
   "display_name": "Python 3",
   "language": "python",
   "name": "python3"
  },
  "language_info": {
   "codemirror_mode": {
    "name": "ipython",
    "version": 3
   },
   "file_extension": ".py",
   "mimetype": "text/x-python",
   "name": "python",
   "nbconvert_exporter": "python",
   "pygments_lexer": "ipython3",
   "version": "3.5.2"
  }
 },
 "nbformat": 4,
 "nbformat_minor": 2
}
